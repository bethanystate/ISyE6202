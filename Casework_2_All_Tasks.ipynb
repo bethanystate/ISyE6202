{
  "nbformat": 4,
  "nbformat_minor": 0,
  "metadata": {
    "colab": {
      "name": "Casework 2 - All Tasks",
      "provenance": [],
      "collapsed_sections": [],
      "authorship_tag": "ABX9TyOjRFJ4lGVLrJP/9qVLTu/u",
      "include_colab_link": true
    },
    "kernelspec": {
      "name": "python3",
      "display_name": "Python 3"
    }
  },
  "cells": [
    {
      "cell_type": "markdown",
      "metadata": {
        "id": "view-in-github",
        "colab_type": "text"
      },
      "source": [
        "<a href=\"https://colab.research.google.com/github/bethanystate/ISyE6202/blob/main/Casework_2_All_Tasks.ipynb\" target=\"_parent\"><img src=\"https://colab.research.google.com/assets/colab-badge.svg\" alt=\"Open In Colab\"/></a>"
      ]
    },
    {
      "cell_type": "markdown",
      "metadata": {
        "id": "bU7whJdhY8ya"
      },
      "source": [
        "# Load Excel Data"
      ]
    },
    {
      "cell_type": "code",
      "metadata": {
        "id": "ojMd-euJZTeJ"
      },
      "source": [
        "!pip install -U -q PyDrive\n",
        "from pydrive.auth import GoogleAuth\n",
        "from pydrive.drive import GoogleDrive\n",
        "from google.colab import auth\n",
        "from oauth2client.client import GoogleCredentials\n",
        "\n",
        "auth.authenticate_user()\n",
        "gauth = GoogleAuth()\n",
        "gauth.credentials = GoogleCredentials.get_application_default()\n",
        "drive = GoogleDrive(gauth)\n",
        "\n",
        "file_id = '1mWtI5rM6q3mND741ytjbi-rXiTcNaznH'\n",
        "downloaded = drive.CreateFile({'id': file_id})"
      ],
      "execution_count": null,
      "outputs": []
    },
    {
      "cell_type": "code",
      "metadata": {
        "id": "eIknj_rYdP8t"
      },
      "source": [
        "downloaded.GetContentFile('GivenData.xlsx')"
      ],
      "execution_count": null,
      "outputs": []
    },
    {
      "cell_type": "code",
      "metadata": {
        "id": "JqbLFwITdX7Z",
        "outputId": "2026e48e-6d31-43a4-b5c9-611e2c308f5b",
        "colab": {
          "base_uri": "https://localhost:8080/"
        }
      },
      "source": [
        "!ls -lha GivenData.xlsx"
      ],
      "execution_count": null,
      "outputs": [
        {
          "output_type": "stream",
          "text": [
            "-rw-r--r-- 1 root root 26K Oct 22 05:28 GivenData.xlsx\n"
          ],
          "name": "stdout"
        }
      ]
    },
    {
      "cell_type": "code",
      "metadata": {
        "id": "2mfwgCvPdabA"
      },
      "source": [
        "!pip install -q xlrd\n",
        "\n",
        "import pandas as pd\n",
        "from openpyxl import load_workbook\n",
        "\n",
        "df = pd.read_excel('GivenData.xlsx')"
      ],
      "execution_count": null,
      "outputs": []
    },
    {
      "cell_type": "markdown",
      "metadata": {
        "id": "qYPuAstnElsc"
      },
      "source": [
        "# Task 1 - Simulator"
      ]
    },
    {
      "cell_type": "markdown",
      "metadata": {
        "id": "lAGwrqusfzuk"
      },
      "source": [
        "Demand Based on Year, Period, and Day\n"
      ]
    },
    {
      "cell_type": "code",
      "metadata": {
        "id": "6FEXQu3lf0Mk"
      },
      "source": [
        "import random\n",
        "from numpy.random import choice\n",
        "import itertools\n",
        "import numpy as np\n",
        "\n",
        "demand_table = pd.read_excel('GivenData.xlsx', 'Demand Forecast', usecols=range(1,7), skiprows=range(6,9,1))\n",
        "sim_demand = demand_table.sample(n=1, weights='Probability') #Random yearly demand based on probability\n",
        "\n",
        "period = pd.read_excel('GivenData.xlsx', 'Transpose', usecols=range(4,6), skiprows=range(14,20,1))\n",
        "sim_period = period.sample(n=1) #Random 4-week period\n",
        "\n",
        "day_of_week = pd.read_excel('GivenData.xlsx', 'Transpose', usecols=range(8,10), skiprows=range(8,20,1))\n",
        "period_demand = sim_demand.mul(other=sim_period.iloc[0]['Demand share']) #Demand within a given period\n",
        "\n",
        "space_table = pd.read_excel('GivenData.xlsx', 'Transpose', usecols=range(1,3), skiprows=range(19,20,1))\n",
        "sim_space = space_table.sample(n=1, weights='Probability') #Random locker based on weights"
      ],
      "execution_count": null,
      "outputs": []
    },
    {
      "cell_type": "code",
      "metadata": {
        "id": "mVMpzsKxntcG",
        "outputId": "64685743-0755-45d3-8a96-ed640dc578b7",
        "colab": {
          "base_uri": "https://localhost:8080/"
        }
      },
      "source": [
        "print('The simulated yearly demand forcast is')\n",
        "print(sim_demand)\n",
        "\n",
        "print('The simulated 4-week period and Demand share is')\n",
        "print(sim_period)\n",
        "\n",
        "print('The simulated yearly demand based on given period is')\n",
        "print(period_demand[['Year 1','Year 2','Year 3','Year 4', 'Year 5']])\n",
        "\n",
        "print('The simulated daily demand for a given period and year is')\n",
        "#Daily demand on a given days within a given period\n",
        "daily_demand = pd.concat([period_demand.mul(other = day_of_week.iloc[0]['Day Demand Share']), \n",
        "      period_demand.mul(other = day_of_week.iloc[1]['Day Demand Share']), \n",
        "      period_demand.mul(other = day_of_week.iloc[2]['Day Demand Share']),\n",
        "      period_demand.mul(other = day_of_week.iloc[3]['Day Demand Share']),\n",
        "      period_demand.mul(other = day_of_week.iloc[4]['Day Demand Share']),\n",
        "      period_demand.mul(other = day_of_week.iloc[5]['Day Demand Share']),\n",
        "      period_demand.mul(other = day_of_week.iloc[6]['Day Demand Share'])])\n",
        "print(daily_demand)\n",
        "print('where Row 1 is Sunday, Row 2 Monday, etc.')\n"
      ],
      "execution_count": null,
      "outputs": [
        {
          "output_type": "stream",
          "text": [
            "The simulated yearly demand forcast is\n",
            "   Probability  Year 1  Year 2  Year 3  Year 4  Year 5\n",
            "4          0.1   50000   60000   60000   60000   60000\n",
            "The simulated 4-week period and Demand share is\n",
            "   4-week period  Demand share\n",
            "5              6          0.06\n",
            "The simulated yearly demand based on given period is\n",
            "   Year 1  Year 2  Year 3  Year 4  Year 5\n",
            "4  3000.0  3600.0  3600.0  3600.0  3600.0\n",
            "The simulated daily demand for a given period and year is\n",
            "   Probability  Year 1  Year 2  Year 3  Year 4  Year 5\n",
            "4      0.00030   150.0   180.0   180.0   180.0   180.0\n",
            "4      0.00060   300.0   360.0   360.0   360.0   360.0\n",
            "4      0.00090   450.0   540.0   540.0   540.0   540.0\n",
            "4      0.00090   450.0   540.0   540.0   540.0   540.0\n",
            "4      0.00108   540.0   648.0   648.0   648.0   648.0\n",
            "4      0.00132   660.0   792.0   792.0   792.0   792.0\n",
            "4      0.00090   450.0   540.0   540.0   540.0   540.0\n",
            "where Row 1 is Sunday, Row 2 Monday, etc.\n"
          ],
          "name": "stdout"
        }
      ]
    },
    {
      "cell_type": "markdown",
      "metadata": {
        "id": "fJty3xBtLfUd"
      },
      "source": [
        "Pick Up and Drop Off Table\n"
      ]
    },
    {
      "cell_type": "code",
      "metadata": {
        "id": "nJ_zKHHkLfCt",
        "outputId": "1de6a85d-c4e1-4a30-a854-cff73859dd9d",
        "colab": {
          "base_uri": "https://localhost:8080/"
        }
      },
      "source": [
        "demand_table = pd.read_excel('GivenData.xlsx', 'Pick Drop', header = 0, usecols=range(2,26), skiprows = 1, skipfooter = 1)\n",
        "\n",
        "p = random.randint(0, 23) #pickup time\n",
        "d = random.randint(0, 23) #dropoff time\n",
        "\n",
        "if demand_table.iat[d, p] > 0:\n",
        "  print('Deposit Time', d)\n",
        "  print('Pickup Time', p)\n",
        "  print('Probability of Dropoff and Pickup is', demand_table.iat[d, p], 'x10,000.')\n",
        "else:\n",
        "  print('Deposit Time', d) \n",
        "  print('Pickup Time', p)\n",
        "  print('No pickup or dropoff during this time.')\n",
        "\n",
        "print('The simulated locker space is', sim_space.iloc[0]['Space (ft3)'])\n"
      ],
      "execution_count": null,
      "outputs": [
        {
          "output_type": "stream",
          "text": [
            "Deposit Time 10\n",
            "Pickup Time 5\n",
            "No pickup or dropoff during this time.\n",
            "The simulated locker space is 16.0\n"
          ],
          "name": "stdout"
        }
      ]
    },
    {
      "cell_type": "markdown",
      "metadata": {
        "id": "brpHcvR_EeLj"
      },
      "source": [
        "# Task 2 - Heuristic *INSERT HERE*"
      ]
    },
    {
      "cell_type": "markdown",
      "metadata": {
        "id": "EmX1ISUxExXF"
      },
      "source": [
        "# Task 3 - Extend Simulator"
      ]
    },
    {
      "cell_type": "markdown",
      "metadata": {
        "id": "mhSEXeR1m2BK"
      },
      "source": [
        "##Locker Bank Layout"
      ]
    },
    {
      "cell_type": "code",
      "metadata": {
        "id": "uSw4NR37rpzw"
      },
      "source": [
        "import matplotlib\n",
        "import matplotlib.pyplot as plt\n",
        "import matplotlib.gridspec as gridspec"
      ],
      "execution_count": null,
      "outputs": []
    },
    {
      "cell_type": "code",
      "metadata": {
        "id": "L4HrrNX6w1yo",
        "outputId": "03ab3f63-0418-4922-b7a0-cf87f3ed26a0",
        "colab": {
          "base_uri": "https://localhost:8080/",
          "height": 102
        }
      },
      "source": [
        "import random\n",
        "column = random.randrange(5, 50, 1)\n",
        "rowz = random.randrange(5, 50, 1)\n",
        "no_lockers = column * rowz\n",
        "print('No. of Lockers', no_lockers)\n",
        "print('No. of columns', column)\n",
        "print('No. of rows', rowz)\n",
        "\n",
        "widths = []\n",
        "for i in range(0,column):\n",
        "  n = random.randint(1,5)\n",
        "  widths.append(n)\n",
        "print('Widths of Lockers', widths)\n",
        "\n",
        "heights = []\n",
        "for i in range(0,rowz):\n",
        "  n = random.randint(1,5)\n",
        "  heights.append(n)\n",
        "print('Heights of Lockers', heights)"
      ],
      "execution_count": null,
      "outputs": [
        {
          "output_type": "stream",
          "text": [
            "No. of Lockers 560\n",
            "No. of columns 20\n",
            "No. of rows 28\n",
            "Widths of Lockers [5, 5, 5, 3, 4, 5, 3, 2, 3, 4, 2, 1, 5, 1, 3, 2, 1, 5, 4, 3]\n",
            "Heights of Lockers [5, 1, 1, 5, 2, 3, 3, 4, 4, 4, 1, 4, 3, 1, 1, 3, 2, 5, 1, 4, 4, 2, 2, 1, 5, 2, 2, 3]\n"
          ],
          "name": "stdout"
        }
      ]
    },
    {
      "cell_type": "markdown",
      "metadata": {
        "id": "kaSIrOORBFPX"
      },
      "source": [
        "##Locker Sizes"
      ]
    },
    {
      "cell_type": "code",
      "metadata": {
        "id": "5UzPKk0EBFb1",
        "outputId": "e94f40da-b298-4780-90c9-6d34e90039fb",
        "colab": {
          "base_uri": "https://localhost:8080/"
        }
      },
      "source": [
        "#sizes of lockers in ft3\n",
        "sizes = []\n",
        "for i in range(no_lockers):\n",
        "  sim_space = space_table.sample(n=1, weights='Probability') #Random locker based on weights\n",
        "  n = sim_space.iloc[0]['Space (ft3)']\n",
        "  sizes.append(n)\n",
        "print(sizes)\n",
        "\n",
        "#total dimensions of lockers\n",
        "total = 0\n",
        "for ele in range(0, len(sizes)):\n",
        "  total = total + sizes[(ele)]\n",
        "print('Total Dimensions of Lockers:', total, 'ft3')\n"
      ],
      "execution_count": null,
      "outputs": [
        {
          "output_type": "stream",
          "text": [
            "[3.0, 2.0, 2.0, 9.0, 1.0, 3.0, 3.0, 13.0, 2.0, 9.0, 5.0, 7.0, 3.0, 4.0, 5.0, 3.0, 10.0, 7.0, 5.0, 16.0, 3.0, 8.0, 4.0, 2.0, 4.0, 6.0, 11.0, 3.0, 17.0, 3.0, 9.0, 10.0, 3.0, 2.0, 2.0, 3.0, 6.0, 1.0, 10.0, 12.0, 2.0, 2.0, 4.0, 11.0, 10.0, 3.0, 2.0, 12.0, 10.0, 5.0, 3.0, 14.0, 4.0, 4.0, 1.0, 6.0, 4.0, 2.0, 3.0, 11.0, 2.0, 8.0, 5.0, 5.0, 9.0, 3.0, 1.0, 7.0, 7.0, 5.0, 10.0, 10.0, 6.0, 6.0, 3.0, 12.0, 1.0, 6.0, 10.0, 16.0, 14.0, 7.0, 6.0, 13.0, 5.0, 13.0, 13.0, 8.0, 6.0, 3.0, 1.0, 3.0, 5.0, 11.0, 1.0, 7.0, 13.0, 2.0, 9.0, 4.0, 2.0, 16.0, 1.0, 8.0, 2.0, 13.0, 11.0, 4.0, 7.0, 5.0, 1.0, 10.0, 4.0, 1.0, 13.0, 9.0, 4.0, 11.0, 5.0, 8.0, 7.0, 1.0, 1.0, 3.0, 18.0, 1.0, 18.0, 6.0, 2.0, 12.0, 2.0, 3.0, 7.0, 11.0, 2.0, 2.0, 6.0, 12.0, 7.0, 4.0, 7.0, 9.0, 14.0, 3.0, 5.0, 12.0, 2.0, 13.0, 3.0, 3.0, 1.0, 5.0, 6.0, 3.0, 4.0, 4.0, 3.0, 9.0, 17.0, 6.0, 1.0, 4.0, 4.0, 5.0, 2.0, 6.0, 10.0, 11.0, 9.0, 5.0, 5.0, 11.0, 1.0, 4.0, 3.0, 6.0, 3.0, 5.0, 5.0, 2.0, 3.0, 5.0, 9.0, 2.0, 4.0, 18.0, 2.0, 1.0, 1.0, 8.0, 6.0, 5.0, 12.0, 6.0, 4.0, 4.0, 2.0, 8.0, 1.0, 5.0, 8.0, 1.0, 16.0, 3.0, 2.0, 8.0, 16.0, 10.0, 6.0, 4.0, 8.0, 7.0, 13.0, 7.0, 4.0, 5.0, 18.0, 1.0, 4.0, 1.0, 3.0, 9.0, 2.0, 2.0, 3.0, 7.0, 9.0, 1.0, 3.0, 12.0, 11.0, 14.0, 8.0, 4.0, 2.0, 3.0, 2.0, 3.0, 9.0, 4.0, 4.0, 5.0, 7.0, 5.0, 4.0, 4.0, 18.0, 5.0, 5.0, 3.0, 8.0, 13.0, 4.0, 16.0, 9.0, 3.0, 6.0, 9.0, 5.0, 7.0, 8.0, 5.0, 6.0, 1.0, 5.0, 2.0, 3.0, 8.0, 8.0, 6.0, 7.0, 9.0, 13.0, 14.0, 3.0, 4.0, 11.0, 8.0, 2.0, 2.0, 7.0, 3.0, 3.0, 8.0, 4.0, 4.0, 11.0, 6.0, 4.0, 4.0, 6.0, 3.0, 14.0, 11.0, 10.0, 18.0, 11.0, 2.0, 4.0, 4.0, 4.0, 4.0, 3.0, 7.0, 2.0, 3.0, 2.0, 12.0, 4.0, 2.0, 3.0, 3.0, 6.0, 14.0, 9.0, 5.0, 8.0, 6.0, 15.0, 3.0, 18.0, 3.0, 5.0, 5.0, 11.0, 6.0, 4.0, 2.0, 14.0, 2.0, 2.0, 9.0, 2.0, 16.0, 1.0, 4.0, 3.0, 3.0, 3.0, 2.0, 2.0, 1.0, 12.0, 3.0, 6.0, 5.0, 11.0, 2.0, 5.0, 8.0, 2.0, 3.0, 7.0, 4.0, 17.0, 3.0, 5.0, 15.0, 10.0, 11.0, 3.0, 12.0, 4.0, 12.0, 6.0, 4.0, 1.0, 3.0, 3.0, 7.0, 3.0, 9.0, 6.0, 4.0, 8.0, 3.0, 3.0, 12.0, 3.0, 4.0, 3.0, 5.0, 1.0, 3.0, 9.0, 17.0, 6.0, 5.0, 6.0, 7.0, 3.0, 4.0, 2.0, 14.0, 8.0, 2.0, 3.0, 5.0, 11.0, 11.0, 2.0, 17.0, 8.0, 3.0, 9.0, 6.0, 3.0, 6.0, 13.0, 3.0, 2.0, 6.0, 4.0, 4.0, 7.0, 8.0, 3.0, 11.0, 5.0, 16.0, 13.0, 10.0, 4.0, 1.0, 11.0, 3.0, 3.0, 7.0, 5.0, 3.0, 7.0, 10.0, 6.0, 2.0, 3.0, 6.0, 14.0, 4.0, 4.0, 7.0, 7.0, 1.0, 12.0, 3.0, 3.0, 1.0, 6.0, 14.0, 11.0, 3.0, 3.0, 4.0, 5.0, 4.0, 2.0, 2.0, 11.0, 3.0, 16.0, 14.0, 3.0, 2.0, 4.0, 2.0, 14.0, 1.0, 5.0, 8.0, 3.0, 13.0, 3.0, 11.0, 4.0, 1.0, 2.0, 2.0, 8.0, 5.0, 11.0, 7.0, 6.0, 4.0, 4.0, 6.0, 1.0, 6.0, 2.0, 5.0, 3.0, 15.0, 11.0, 18.0, 2.0, 2.0, 1.0, 11.0, 10.0, 4.0, 5.0, 2.0, 3.0, 4.0, 1.0, 3.0, 4.0, 1.0, 4.0, 2.0, 1.0, 5.0, 4.0, 5.0, 15.0, 7.0, 14.0, 2.0, 7.0, 4.0, 3.0, 4.0, 6.0, 2.0, 2.0, 13.0, 8.0, 7.0, 7.0, 17.0, 9.0, 9.0, 13.0, 6.0, 1.0, 4.0, 5.0, 16.0, 8.0, 6.0, 3.0, 9.0, 3.0, 18.0, 6.0, 3.0, 3.0, 1.0, 5.0, 14.0, 12.0, 6.0, 13.0, 2.0, 2.0, 2.0, 2.0, 4.0, 4.0, 10.0, 2.0, 7.0, 13.0, 2.0, 2.0, 1.0, 11.0, 14.0, 3.0, 1.0, 9.0, 5.0, 5.0, 3.0, 8.0, 12.0, 6.0, 18.0, 3.0, 1.0, 7.0, 1.0, 7.0, 6.0, 8.0, 13.0, 3.0, 4.0, 14.0, 11.0, 5.0, 11.0, 3.0, 17.0, 9.0, 3.0, 3.0, 11.0, 7.0, 4.0, 2.0, 1.0, 11.0, 11.0, 3.0, 2.0, 4.0, 3.0, 3.0, 8.0, 2.0, 3.0, 1.0, 3.0, 3.0, 8.0, 3.0, 11.0, 13.0, 9.0, 3.0, 5.0, 8.0, 2.0, 2.0, 2.0, 2.0, 6.0, 5.0, 5.0, 8.0, 9.0, 3.0, 2.0, 3.0, 1.0, 13.0, 3.0, 4.0, 5.0, 5.0, 5.0, 7.0, 10.0, 1.0, 3.0, 4.0, 1.0, 6.0, 6.0, 10.0, 12.0, 2.0, 1.0, 4.0, 3.0, 7.0, 4.0, 9.0, 5.0, 2.0, 11.0, 6.0, 6.0, 7.0, 7.0, 4.0, 1.0, 9.0, 4.0, 14.0, 15.0, 3.0, 5.0, 7.0, 5.0, 12.0, 3.0, 3.0, 9.0, 6.0, 5.0, 16.0, 2.0, 3.0, 4.0, 16.0, 1.0, 8.0, 11.0, 14.0, 13.0, 3.0, 3.0, 17.0, 1.0, 9.0, 11.0, 2.0, 5.0, 4.0, 5.0, 4.0, 10.0, 14.0, 4.0, 2.0, 5.0, 16.0, 11.0, 3.0, 1.0, 6.0, 1.0, 1.0, 2.0, 5.0, 4.0, 10.0, 15.0, 8.0, 9.0, 3.0, 5.0, 4.0, 5.0, 2.0, 3.0, 3.0, 3.0, 7.0, 13.0, 3.0, 16.0, 1.0, 3.0, 10.0, 14.0, 8.0, 2.0, 2.0, 2.0, 9.0, 6.0, 3.0, 12.0, 8.0, 3.0, 6.0, 5.0, 10.0, 1.0, 5.0, 3.0, 6.0, 10.0, 4.0, 2.0, 4.0, 5.0, 12.0, 3.0, 4.0, 3.0, 3.0, 2.0, 2.0, 2.0, 4.0, 2.0, 5.0, 3.0, 5.0, 2.0, 5.0, 11.0, 12.0, 4.0, 1.0, 10.0, 10.0, 8.0, 6.0, 14.0, 17.0, 6.0, 7.0, 4.0, 6.0, 15.0, 3.0, 7.0, 4.0, 1.0, 5.0, 14.0, 9.0, 8.0, 8.0, 7.0, 4.0, 6.0, 7.0, 4.0, 4.0, 14.0, 3.0, 5.0, 4.0, 1.0, 6.0, 5.0, 6.0, 6.0, 8.0, 1.0, 13.0, 3.0, 8.0, 1.0, 1.0, 8.0, 1.0, 18.0, 13.0, 4.0, 4.0, 5.0, 2.0, 16.0, 2.0, 3.0, 3.0, 7.0, 2.0, 2.0, 10.0, 18.0, 2.0, 3.0, 18.0, 4.0, 2.0, 2.0, 15.0, 9.0, 8.0, 6.0, 6.0, 3.0, 3.0, 1.0, 3.0, 6.0, 9.0, 2.0, 8.0, 3.0, 7.0, 15.0, 2.0, 12.0, 11.0, 2.0, 3.0, 1.0, 3.0, 2.0, 3.0, 5.0, 11.0, 5.0, 6.0, 3.0, 3.0, 6.0, 4.0, 15.0, 2.0, 1.0, 1.0, 3.0, 6.0, 1.0, 10.0, 14.0, 2.0, 3.0, 9.0, 2.0, 17.0, 4.0, 4.0, 7.0, 3.0, 5.0, 2.0, 6.0, 7.0, 2.0, 5.0, 13.0, 5.0, 3.0, 11.0, 11.0, 2.0, 12.0, 8.0, 3.0, 10.0, 13.0, 4.0, 2.0, 5.0, 3.0, 6.0, 8.0, 4.0, 7.0, 8.0, 2.0, 3.0, 3.0, 3.0, 4.0, 3.0, 1.0, 11.0, 5.0, 3.0, 3.0, 7.0, 5.0, 8.0, 8.0, 3.0, 1.0, 14.0, 7.0, 17.0, 6.0, 1.0, 4.0, 2.0, 3.0, 3.0, 4.0, 5.0, 4.0, 4.0, 9.0, 6.0, 17.0, 10.0, 5.0, 9.0, 4.0, 4.0, 2.0, 2.0, 7.0, 2.0, 13.0, 17.0, 3.0, 4.0, 5.0, 3.0, 7.0, 9.0, 4.0, 1.0, 8.0, 3.0, 5.0, 4.0, 12.0, 11.0, 4.0, 5.0, 12.0, 2.0, 7.0, 4.0, 5.0, 13.0, 2.0, 7.0, 9.0, 1.0, 4.0, 4.0, 2.0, 10.0, 3.0, 3.0, 14.0, 12.0, 6.0, 2.0, 8.0, 3.0, 9.0, 3.0, 7.0, 5.0, 4.0, 7.0, 11.0, 4.0, 10.0, 12.0, 12.0, 3.0, 2.0, 6.0, 14.0, 4.0, 16.0, 5.0, 7.0, 9.0, 10.0, 16.0, 4.0, 4.0, 6.0, 1.0, 3.0, 4.0, 8.0, 3.0, 1.0, 1.0, 3.0, 6.0, 6.0, 4.0, 4.0, 2.0, 3.0, 5.0, 1.0, 8.0, 16.0, 9.0, 17.0, 1.0, 12.0, 9.0, 4.0, 13.0, 3.0, 3.0, 2.0, 2.0, 3.0, 11.0, 4.0, 8.0, 6.0, 3.0, 3.0, 18.0, 3.0, 3.0, 10.0, 2.0, 16.0, 2.0, 1.0, 10.0, 5.0, 4.0, 4.0, 5.0, 5.0, 8.0, 4.0, 9.0, 12.0, 4.0, 3.0, 2.0, 1.0, 8.0, 5.0, 5.0, 5.0, 1.0, 12.0, 11.0, 14.0, 4.0, 14.0, 6.0, 1.0, 6.0, 6.0, 5.0, 5.0, 17.0, 13.0, 3.0, 2.0, 3.0, 13.0, 17.0, 7.0, 3.0, 9.0, 6.0, 7.0, 13.0, 3.0, 4.0, 3.0, 9.0, 4.0, 3.0, 3.0, 1.0, 13.0, 6.0, 11.0, 4.0, 13.0, 6.0, 4.0, 4.0, 2.0, 10.0, 2.0, 6.0, 11.0, 3.0, 16.0, 3.0, 18.0, 3.0, 8.0, 11.0, 11.0, 3.0, 4.0, 8.0, 15.0, 7.0, 7.0, 18.0, 4.0, 1.0, 8.0, 4.0, 1.0, 2.0, 1.0, 4.0, 8.0, 11.0, 9.0, 6.0, 16.0, 3.0, 2.0, 6.0, 1.0, 17.0, 5.0, 13.0, 8.0, 3.0, 4.0, 2.0, 6.0, 3.0, 4.0, 17.0, 2.0, 8.0, 3.0, 1.0, 7.0, 6.0, 2.0, 4.0, 13.0, 5.0, 7.0, 4.0, 15.0, 14.0, 7.0, 8.0, 3.0, 4.0, 2.0, 17.0, 3.0, 4.0, 3.0, 10.0, 9.0, 3.0, 3.0, 9.0, 2.0, 8.0, 4.0, 7.0, 2.0, 15.0, 5.0, 3.0, 3.0, 6.0, 11.0, 16.0, 3.0, 5.0, 3.0, 4.0, 11.0, 9.0, 15.0, 1.0, 9.0, 5.0, 4.0, 7.0, 9.0, 3.0, 4.0, 3.0, 9.0, 2.0, 5.0, 7.0, 7.0, 3.0, 10.0, 7.0, 2.0, 17.0, 1.0, 10.0, 10.0, 17.0, 18.0, 2.0, 5.0, 1.0, 9.0, 1.0, 6.0, 3.0, 6.0, 9.0, 4.0, 1.0, 2.0, 1.0, 4.0, 13.0, 12.0, 6.0, 14.0, 15.0, 3.0, 9.0, 1.0, 4.0, 5.0, 4.0, 9.0, 5.0, 4.0, 3.0, 15.0, 3.0, 14.0, 2.0, 2.0, 13.0, 1.0, 14.0, 4.0, 5.0, 11.0, 2.0, 1.0, 8.0, 14.0, 5.0, 5.0, 14.0, 11.0, 2.0, 7.0, 1.0, 9.0, 14.0, 1.0, 5.0, 16.0, 4.0, 2.0, 9.0, 6.0, 14.0, 13.0, 5.0, 1.0, 1.0, 7.0, 2.0, 7.0, 4.0, 13.0, 3.0, 1.0, 7.0, 4.0, 6.0, 1.0, 4.0, 6.0, 14.0, 15.0, 3.0, 5.0, 4.0, 4.0, 3.0, 1.0, 5.0, 11.0, 3.0, 5.0, 16.0, 10.0, 7.0, 17.0, 2.0, 12.0, 4.0, 15.0, 4.0, 8.0, 4.0, 2.0, 3.0, 5.0, 1.0, 2.0, 7.0, 4.0, 11.0, 3.0, 1.0, 4.0, 3.0, 4.0, 12.0, 6.0, 10.0, 8.0, 16.0, 6.0, 12.0, 4.0, 12.0, 3.0, 12.0, 3.0, 3.0, 13.0, 4.0, 4.0, 4.0, 2.0, 17.0, 3.0, 1.0, 12.0, 14.0, 6.0, 3.0, 2.0, 16.0, 13.0, 3.0, 8.0, 5.0, 8.0, 6.0, 8.0, 10.0, 2.0, 7.0, 11.0, 14.0, 2.0, 1.0, 2.0, 8.0, 10.0, 9.0, 13.0, 9.0, 7.0, 11.0, 2.0, 7.0, 10.0, 4.0, 2.0, 10.0, 2.0, 3.0, 5.0, 4.0, 6.0, 1.0, 5.0, 5.0, 5.0, 8.0, 6.0, 12.0, 6.0, 5.0, 10.0, 13.0, 12.0, 14.0, 12.0, 5.0, 1.0, 6.0, 3.0, 2.0, 9.0, 17.0, 2.0, 5.0, 5.0, 4.0, 2.0, 3.0, 1.0, 3.0, 5.0, 3.0, 3.0, 6.0, 4.0, 16.0, 4.0, 4.0, 4.0, 3.0, 3.0, 2.0, 7.0, 18.0, 9.0, 1.0, 2.0, 3.0, 13.0, 3.0, 8.0, 9.0, 5.0, 8.0, 7.0, 2.0, 3.0, 15.0, 1.0, 18.0, 3.0, 6.0, 3.0, 2.0, 3.0, 13.0, 2.0, 2.0, 4.0, 4.0, 4.0, 3.0, 2.0, 2.0, 7.0, 3.0, 3.0, 17.0, 3.0, 10.0, 1.0, 5.0, 2.0, 3.0, 11.0, 6.0, 3.0, 2.0, 5.0, 7.0, 3.0, 3.0, 13.0, 4.0, 5.0, 1.0, 5.0, 8.0, 4.0, 14.0, 6.0, 1.0, 1.0, 2.0, 3.0, 5.0, 11.0, 15.0, 3.0, 10.0, 8.0, 1.0, 7.0, 4.0, 9.0, 1.0, 2.0, 14.0, 15.0, 4.0, 4.0, 3.0, 5.0, 4.0, 8.0, 16.0, 3.0, 5.0, 3.0, 1.0, 16.0, 4.0, 2.0, 9.0, 13.0, 4.0, 1.0, 5.0, 2.0, 5.0, 1.0, 4.0, 6.0, 2.0, 2.0, 1.0, 13.0, 4.0, 4.0, 6.0, 3.0, 3.0, 1.0, 13.0, 11.0, 4.0, 1.0, 14.0, 15.0, 5.0, 7.0, 3.0, 14.0, 2.0, 2.0, 2.0, 3.0, 5.0, 8.0, 11.0, 3.0, 6.0, 4.0, 7.0, 13.0, 5.0, 4.0, 12.0, 12.0, 7.0, 3.0, 2.0, 14.0, 7.0, 1.0, 15.0, 5.0, 2.0, 8.0, 7.0, 16.0, 10.0, 4.0, 9.0, 4.0, 15.0, 4.0, 11.0, 4.0, 18.0, 1.0, 6.0, 2.0, 15.0, 5.0, 1.0, 9.0, 10.0, 5.0, 10.0, 5.0, 3.0, 10.0, 14.0, 1.0, 5.0, 16.0, 7.0, 3.0, 5.0, 3.0, 13.0, 3.0, 9.0, 4.0, 7.0, 2.0, 3.0, 4.0, 15.0, 10.0, 2.0, 12.0, 6.0, 6.0, 9.0, 5.0, 7.0, 13.0, 4.0, 2.0, 11.0, 14.0, 5.0, 4.0, 3.0, 4.0, 3.0, 2.0, 4.0, 2.0, 13.0, 4.0, 2.0, 2.0, 2.0, 1.0, 2.0, 9.0, 3.0, 2.0, 12.0, 3.0, 7.0, 2.0, 2.0, 1.0, 6.0, 18.0, 17.0, 9.0, 5.0, 5.0, 3.0, 4.0, 1.0, 10.0, 4.0, 2.0, 16.0, 5.0, 2.0, 7.0, 5.0, 7.0, 16.0, 10.0, 3.0, 13.0, 16.0, 11.0, 13.0, 4.0, 7.0, 10.0, 11.0, 3.0, 3.0, 2.0, 6.0, 3.0, 10.0, 5.0, 8.0, 7.0, 1.0, 2.0, 9.0, 15.0, 4.0, 9.0, 6.0, 2.0, 2.0, 6.0, 9.0, 3.0, 6.0, 6.0, 1.0, 3.0, 2.0, 16.0, 4.0, 11.0, 3.0, 5.0, 4.0, 2.0, 4.0, 3.0, 3.0, 5.0, 3.0, 4.0, 5.0, 2.0, 3.0, 3.0, 5.0, 4.0, 12.0, 1.0, 2.0, 16.0, 4.0, 8.0, 9.0, 17.0, 18.0, 10.0, 14.0, 14.0, 6.0, 10.0, 5.0, 2.0, 14.0, 10.0, 11.0, 9.0, 9.0, 10.0, 4.0, 4.0, 1.0, 3.0, 11.0, 2.0, 11.0, 16.0, 1.0, 4.0, 3.0, 9.0, 2.0, 3.0, 1.0, 1.0, 1.0, 1.0, 10.0, 2.0, 4.0, 3.0, 2.0, 3.0, 8.0, 11.0, 1.0, 7.0, 9.0, 5.0, 17.0, 3.0, 6.0, 10.0, 4.0, 12.0, 3.0, 2.0, 12.0, 2.0, 3.0, 5.0, 10.0, 9.0, 12.0, 14.0, 7.0, 2.0, 11.0, 4.0, 1.0, 5.0, 5.0, 4.0, 6.0, 4.0, 3.0, 14.0, 2.0, 4.0, 6.0, 1.0, 6.0, 7.0, 11.0, 5.0, 8.0, 11.0, 15.0, 13.0, 4.0, 3.0, 4.0, 2.0, 5.0, 4.0, 7.0, 12.0, 3.0, 3.0, 2.0, 9.0, 4.0, 1.0, 2.0, 7.0, 2.0, 10.0, 12.0, 15.0, 3.0, 16.0, 6.0, 5.0, 5.0, 1.0]\n",
            "Total Dimensions of Lockers: 11696.0 ft3\n"
          ],
          "name": "stdout"
        }
      ]
    },
    {
      "cell_type": "markdown",
      "metadata": {
        "id": "e8aWyxdW5EA2"
      },
      "source": [
        "##Demand Rejection or Acceptance Based on Demand\n"
      ]
    },
    {
      "cell_type": "code",
      "metadata": {
        "id": "Cl0mFFKuHrfQ",
        "outputId": "3121797d-5a56-45e4-ae9c-dfd6d0c619fb",
        "colab": {
          "base_uri": "https://localhost:8080/"
        }
      },
      "source": [
        "ignore_prob = daily_demand.to_numpy()\n",
        "fiveyar = random.choice(ignore_prob[:,1:])\n",
        "dailydemand = random.choice(fiveyar)\n",
        "dailydemand = int(dailydemand)\n",
        "print('Demand for Delivery:', dailydemand)"
      ],
      "execution_count": null,
      "outputs": [
        {
          "output_type": "stream",
          "text": [
            "Demand for Delivery: 660\n"
          ],
          "name": "stdout"
        }
      ]
    },
    {
      "cell_type": "code",
      "metadata": {
        "id": "VJTESywfKme4",
        "outputId": "a38c31bd-575f-4a0b-c262-ed0c0368b32d",
        "colab": {
          "base_uri": "https://localhost:8080/"
        }
      },
      "source": [
        "if dailydemand <= no_lockers:\n",
        "  print('Accept Demand - Enough lockers')\n",
        "else:\n",
        "  print('Deny Demand - Not enough lockers')"
      ],
      "execution_count": null,
      "outputs": [
        {
          "output_type": "stream",
          "text": [
            "Accept Demand - Enough lockers\n"
          ],
          "name": "stdout"
        }
      ]
    },
    {
      "cell_type": "markdown",
      "metadata": {
        "id": "IrjoIPGLLNG5"
      },
      "source": [
        "##Sojourn to Lockers - Based on Dimensions"
      ]
    },
    {
      "cell_type": "code",
      "metadata": {
        "id": "97GgIgPKLU5w",
        "outputId": "971fe8b3-5555-4673-a4aa-d39a9d04f228",
        "colab": {
          "base_uri": "https://localhost:8080/"
        }
      },
      "source": [
        "#sizes of packages in ft3\n",
        "packages = []\n",
        "for i in range(dailydemand):\n",
        "  sim_space = space_table.sample(n=1, weights='Probability') #Random locker based on weights\n",
        "  n = sim_space.iloc[0]['Space (ft3)']\n",
        "  packages.append(n)\n",
        "print(packages)\n",
        "\n",
        "#total dimensions of packages\n",
        "totalpk = 0\n",
        "for ele in range(0, len(packages)):\n",
        "  totalpk = totalpk + packages[(ele)]\n",
        "print('Total Dimensions of Packages:', totalpk, 'ft3')\n"
      ],
      "execution_count": null,
      "outputs": [
        {
          "output_type": "stream",
          "text": [
            "[5.0, 9.0, 3.0, 2.0, 6.0, 2.0, 14.0, 3.0, 4.0, 6.0, 2.0, 2.0, 11.0, 16.0, 3.0, 4.0, 2.0, 15.0, 2.0, 10.0, 4.0, 14.0, 7.0, 4.0, 5.0, 6.0, 1.0, 6.0, 5.0, 5.0, 3.0, 12.0, 17.0, 13.0, 15.0, 11.0, 8.0, 2.0, 12.0, 3.0, 1.0, 1.0, 4.0, 4.0, 10.0, 4.0, 10.0, 7.0, 6.0, 9.0, 6.0, 8.0, 8.0, 2.0, 18.0, 2.0, 4.0, 3.0, 7.0, 5.0, 6.0, 2.0, 3.0, 7.0, 1.0, 3.0, 11.0, 1.0, 1.0, 4.0, 5.0, 2.0, 3.0, 16.0, 3.0, 15.0, 14.0, 10.0, 6.0, 13.0, 4.0, 2.0, 1.0, 16.0, 4.0, 11.0, 1.0, 2.0, 6.0, 2.0, 4.0, 2.0, 4.0, 4.0, 4.0, 4.0, 12.0, 4.0, 2.0, 1.0, 11.0, 8.0, 18.0, 8.0, 4.0, 4.0, 9.0, 1.0, 2.0, 9.0, 1.0, 5.0, 9.0, 11.0, 5.0, 18.0, 3.0, 11.0, 3.0, 6.0, 6.0, 3.0, 5.0, 9.0, 15.0, 8.0, 6.0, 4.0, 9.0, 2.0, 8.0, 3.0, 12.0, 2.0, 7.0, 2.0, 1.0, 2.0, 11.0, 9.0, 13.0, 1.0, 7.0, 2.0, 13.0, 14.0, 11.0, 2.0, 7.0, 4.0, 3.0, 1.0, 4.0, 8.0, 2.0, 3.0, 1.0, 5.0, 3.0, 5.0, 12.0, 9.0, 5.0, 3.0, 1.0, 14.0, 2.0, 13.0, 5.0, 1.0, 1.0, 1.0, 11.0, 9.0, 16.0, 4.0, 4.0, 2.0, 2.0, 4.0, 7.0, 15.0, 2.0, 10.0, 2.0, 14.0, 2.0, 4.0, 4.0, 1.0, 9.0, 4.0, 3.0, 2.0, 3.0, 2.0, 16.0, 9.0, 1.0, 17.0, 4.0, 4.0, 16.0, 9.0, 2.0, 9.0, 5.0, 5.0, 5.0, 2.0, 4.0, 7.0, 3.0, 11.0, 7.0, 18.0, 17.0, 5.0, 2.0, 12.0, 12.0, 3.0, 4.0, 2.0, 4.0, 3.0, 2.0, 1.0, 18.0, 16.0, 4.0, 3.0, 4.0, 12.0, 3.0, 15.0, 13.0, 5.0, 13.0, 2.0, 5.0, 3.0, 4.0, 8.0, 3.0, 3.0, 2.0, 4.0, 16.0, 1.0, 3.0, 12.0, 2.0, 4.0, 2.0, 16.0, 6.0, 8.0, 8.0, 3.0, 6.0, 14.0, 7.0, 16.0, 2.0, 11.0, 3.0, 14.0, 1.0, 7.0, 4.0, 1.0, 4.0, 1.0, 11.0, 10.0, 2.0, 4.0, 3.0, 1.0, 4.0, 2.0, 8.0, 3.0, 7.0, 4.0, 5.0, 4.0, 1.0, 5.0, 7.0, 2.0, 2.0, 1.0, 2.0, 3.0, 6.0, 3.0, 9.0, 8.0, 2.0, 3.0, 7.0, 6.0, 9.0, 5.0, 17.0, 16.0, 2.0, 3.0, 17.0, 5.0, 3.0, 11.0, 17.0, 10.0, 14.0, 1.0, 1.0, 2.0, 5.0, 2.0, 15.0, 9.0, 3.0, 3.0, 13.0, 1.0, 12.0, 7.0, 4.0, 4.0, 7.0, 13.0, 5.0, 7.0, 4.0, 14.0, 18.0, 1.0, 7.0, 8.0, 8.0, 4.0, 14.0, 3.0, 18.0, 3.0, 6.0, 4.0, 1.0, 3.0, 4.0, 5.0, 1.0, 4.0, 3.0, 2.0, 17.0, 2.0, 12.0, 2.0, 5.0, 4.0, 6.0, 3.0, 2.0, 7.0, 3.0, 2.0, 3.0, 7.0, 4.0, 9.0, 2.0, 13.0, 3.0, 17.0, 1.0, 8.0, 6.0, 5.0, 7.0, 3.0, 1.0, 8.0, 11.0, 3.0, 4.0, 5.0, 3.0, 4.0, 7.0, 6.0, 16.0, 2.0, 7.0, 5.0, 3.0, 1.0, 3.0, 4.0, 5.0, 9.0, 4.0, 5.0, 2.0, 16.0, 4.0, 8.0, 6.0, 8.0, 4.0, 2.0, 5.0, 5.0, 1.0, 10.0, 6.0, 8.0, 2.0, 5.0, 14.0, 4.0, 9.0, 1.0, 6.0, 1.0, 12.0, 9.0, 12.0, 3.0, 4.0, 3.0, 7.0, 7.0, 7.0, 9.0, 1.0, 9.0, 4.0, 8.0, 7.0, 3.0, 7.0, 4.0, 5.0, 1.0, 2.0, 6.0, 1.0, 3.0, 3.0, 4.0, 3.0, 8.0, 8.0, 1.0, 8.0, 4.0, 4.0, 10.0, 7.0, 3.0, 3.0, 3.0, 3.0, 4.0, 4.0, 4.0, 8.0, 3.0, 3.0, 2.0, 17.0, 17.0, 2.0, 3.0, 3.0, 2.0, 9.0, 4.0, 5.0, 6.0, 15.0, 2.0, 1.0, 1.0, 3.0, 11.0, 14.0, 11.0, 10.0, 3.0, 3.0, 8.0, 4.0, 9.0, 4.0, 2.0, 2.0, 2.0, 2.0, 11.0, 17.0, 2.0, 12.0, 4.0, 1.0, 10.0, 2.0, 3.0, 1.0, 3.0, 6.0, 3.0, 1.0, 14.0, 6.0, 2.0, 14.0, 4.0, 3.0, 9.0, 10.0, 12.0, 5.0, 6.0, 10.0, 9.0, 2.0, 3.0, 8.0, 4.0, 17.0, 7.0, 9.0, 16.0, 2.0, 3.0, 1.0, 16.0, 1.0, 9.0, 4.0, 9.0, 4.0, 1.0, 16.0, 10.0, 2.0, 3.0, 8.0, 11.0, 7.0, 14.0, 9.0, 1.0, 2.0, 5.0, 15.0, 1.0, 14.0, 6.0, 17.0, 3.0, 12.0, 2.0, 8.0, 4.0, 1.0, 5.0, 9.0, 14.0, 2.0, 11.0, 17.0, 14.0, 8.0, 7.0, 10.0, 9.0, 11.0, 2.0, 5.0, 3.0, 7.0, 3.0, 11.0, 16.0, 13.0, 12.0, 4.0, 5.0, 3.0, 11.0, 2.0, 3.0, 11.0, 3.0, 7.0, 9.0, 6.0, 6.0, 1.0, 17.0, 3.0, 2.0, 5.0, 4.0, 16.0, 2.0, 11.0, 3.0, 3.0, 1.0, 1.0, 2.0, 4.0, 5.0, 11.0, 3.0, 3.0, 14.0, 14.0, 2.0, 2.0, 17.0, 12.0, 4.0, 3.0, 14.0, 3.0, 10.0, 8.0, 10.0, 3.0, 3.0, 11.0, 2.0, 2.0, 3.0, 10.0, 2.0, 1.0, 3.0, 2.0, 14.0, 5.0, 3.0, 9.0, 1.0, 1.0, 1.0, 3.0, 4.0, 13.0, 2.0, 14.0, 3.0]\n",
            "Total Dimensions of Packages: 4093.0 ft3\n"
          ],
          "name": "stdout"
        }
      ]
    },
    {
      "cell_type": "code",
      "metadata": {
        "id": "fTYgkNGJLbtv",
        "outputId": "4e2dcf32-27ab-49ff-de74-92ec743b30fd",
        "colab": {
          "base_uri": "https://localhost:8080/"
        }
      },
      "source": [
        "if totalpk <= total:\n",
        "  print('Accept Demand - Enough Dimension Space')\n",
        "else:\n",
        "  print('Deny Demand - Not Enough Dimension Space')"
      ],
      "execution_count": null,
      "outputs": [
        {
          "output_type": "stream",
          "text": [
            "Accept Demand - Enough Dimension Space\n"
          ],
          "name": "stdout"
        }
      ]
    },
    {
      "cell_type": "code",
      "metadata": {
        "id": "_A1Ef1wPMyRD",
        "outputId": "7366fec3-fe6d-4590-c72c-c9b3157ac4e6",
        "colab": {
          "base_uri": "https://localhost:8080/"
        }
      },
      "source": [
        "if dailydemand <= no_lockers and totalpk <= total:\n",
        "  print('Sojourn to lockers is SUCCESSFUL')\n",
        "else:\n",
        "  print('Try different locker location')"
      ],
      "execution_count": null,
      "outputs": [
        {
          "output_type": "stream",
          "text": [
            "Sojourn to lockers is SUCCESSFUL\n"
          ],
          "name": "stdout"
        }
      ]
    },
    {
      "cell_type": "markdown",
      "metadata": {
        "id": "N7oE_uyNNRPJ"
      },
      "source": [
        "Utilization of Locker Bank (Based on Dimension)"
      ]
    },
    {
      "cell_type": "code",
      "metadata": {
        "id": "4_GG6h_SNXO_",
        "outputId": "680ddadb-011e-4862-f039-176fe1fbf723",
        "colab": {
          "base_uri": "https://localhost:8080/"
        }
      },
      "source": [
        "if totalpk <= total:\n",
        "  utilization = (totalpk/total)*100\n",
        "  print('Utilization of Locker Bank', utilization, '%')\n",
        "else:\n",
        "  print('Zero Utilization')"
      ],
      "execution_count": null,
      "outputs": [
        {
          "output_type": "stream",
          "text": [
            "Utilization of Locker Bank 34.994870041039675 %\n"
          ],
          "name": "stdout"
        }
      ]
    },
    {
      "cell_type": "markdown",
      "metadata": {
        "id": "7BfhaRltN_QD"
      },
      "source": [
        "##Daily Service Level "
      ]
    },
    {
      "cell_type": "code",
      "metadata": {
        "id": "oNNxE6yuOBHD",
        "outputId": "5fd72786-272b-4617-dbe1-4bdbbeda1ffc",
        "colab": {
          "base_uri": "https://localhost:8080/",
          "height": 34
        }
      },
      "source": [
        "#Daily\n",
        "if dailydemand <= no_lockers:\n",
        "  servicelevel = (dailydemand/no_lockers) * 100\n",
        "  print('Daily Service Level', servicelevel, '%')\n",
        "else:\n",
        "  print('Dissatisfactory Service Level', servicelevel, '%')"
      ],
      "execution_count": null,
      "outputs": [
        {
          "output_type": "stream",
          "text": [
            "Daily Service Level 35.1063829787234 %\n"
          ],
          "name": "stdout"
        }
      ]
    },
    {
      "cell_type": "code",
      "metadata": {
        "id": "ZTef6Xv8PKgy",
        "outputId": "be20b0ed-1c0a-45b7-d85c-198ee703de98",
        "colab": {
          "base_uri": "https://localhost:8080/",
          "height": 1000
        }
      },
      "source": [
        "#Yearly\n",
        "\n",
        "servicelevel = 0\n",
        "weeks_yr = []\n",
        "for y in range(52):\n",
        "  column = random.randrange(5, 50, 1)\n",
        "  rowz = random.randrange(5, 50, 1)\n",
        "  no_lockers = column * rowz\n",
        "  print('No. of Lockers', no_lockers)\n",
        "  #print('No. of columns', column)\n",
        "  #print('No. of rows', rowz)\n",
        "\n",
        "  widths = []\n",
        "  for i in range(0,column):\n",
        "    n = random.randint(1,5)\n",
        "    widths.append(n)\n",
        "  #print('Widths of Lockers', widths)\n",
        "\n",
        "  heights = []\n",
        "  for i in range(0,rowz):\n",
        "    n = random.randint(1,5)\n",
        "    heights.append(n)\n",
        "  #print('Heights of Lockers', heights)\n",
        "\n",
        "  #sizes of lockers in ft3\n",
        "  sizes = []\n",
        "  for i in range(no_lockers):\n",
        "    sim_space = space_table.sample(n=1, weights='Probability') #Random locker based on weights\n",
        "    n = sim_space.iloc[0]['Space (ft3)']\n",
        "    sizes.append(n)\n",
        "  #print(sizes)\n",
        "\n",
        "  #total dimensions of lockers\n",
        "  total = 0\n",
        "  for ele in range(0, len(sizes)):\n",
        "    total = total + sizes[(ele)]\n",
        "  #print('Total Dimensions of Lockers:', total, 'ft3')\n",
        "\n",
        "  ignore_prob = daily_demand.to_numpy()\n",
        "  fiveyar = random.choice(ignore_prob[:,1:])\n",
        "  dailydemand = random.choice(fiveyar)\n",
        "  dailydemand = int(dailydemand)\n",
        "  #print('Demand for Delivery:', dailydemand)\n",
        "\n",
        "  if dailydemand <= no_lockers:\n",
        "    print('Accept Demand - Enough lockers')\n",
        "  else:\n",
        "    print('Deny Demand - Not enough lockers')\n",
        "\n",
        "  #sizes of packages in ft3\n",
        "  packages = []\n",
        "  for i in range(dailydemand):\n",
        "    sim_space = space_table.sample(n=1, weights='Probability') #Random locker based on weights\n",
        "    n = sim_space.iloc[0]['Space (ft3)']\n",
        "    packages.append(n)\n",
        "  #print(packages)\n",
        "\n",
        "  #total dimensions of packages\n",
        "  totalpk = 0\n",
        "  for ele in range(0, len(packages)):\n",
        "    totalpk = totalpk + packages[(ele)]\n",
        "  #print('Total Dimensions of Packages:', totalpk, 'ft3')\n",
        "\n",
        "  if totalpk <= total:\n",
        "    print('Accept Demand - Enough Dimension Space')\n",
        "  else:\n",
        "    print('Deny Demand - Not Enough Dimension Space')\n",
        "\n",
        "  if dailydemand <= no_lockers and totalpk <= total:\n",
        "    print('Sojourn to lockers is SUCCESSFUL')\n",
        "  else:\n",
        "    print('Try different locker location')\n",
        "\n",
        "  if totalpk <= total:\n",
        "    utilization = (totalpk/total)*100\n",
        "    print('Utilization of Locker Bank', utilization, '%')\n",
        "  else:\n",
        "    print('Zero Utilization')\n",
        "\n",
        "  #Daily\n",
        "  if dailydemand <= no_lockers:\n",
        "    servicelevel = (dailydemand/no_lockers) * 100\n",
        "    print('Acceptable Service Level', servicelevel)\n",
        "  else:\n",
        "    print('Dissatisfactory Service Level')\n"
      ],
      "execution_count": null,
      "outputs": [
        {
          "output_type": "stream",
          "text": [
            "No. of Lockers 924\n",
            "Accept Demand - Enough lockers\n",
            "Accept Demand - Enough Dimension Space\n",
            "Sojourn to lockers is SUCCESSFUL\n",
            "Utilization of Locker Bank 65.32748143146523 %\n",
            "Acceptable Service Level 70.12987012987013\n",
            "No. of Lockers 1296\n",
            "Accept Demand - Enough lockers\n",
            "Accept Demand - Enough Dimension Space\n",
            "Sojourn to lockers is SUCCESSFUL\n",
            "Utilization of Locker Bank 50.62641689535855 %\n",
            "Acceptable Service Level 50.0\n",
            "No. of Lockers 612\n",
            "Deny Demand - Not enough lockers\n",
            "Deny Demand - Not Enough Dimension Space\n",
            "Try different locker location\n",
            "Zero Utilization\n",
            "Dissatisfactory Service Level\n",
            "No. of Lockers 112\n",
            "Deny Demand - Not enough lockers\n",
            "Deny Demand - Not Enough Dimension Space\n",
            "Try different locker location\n",
            "Zero Utilization\n",
            "Dissatisfactory Service Level\n",
            "No. of Lockers 1598\n",
            "Accept Demand - Enough lockers\n",
            "Accept Demand - Enough Dimension Space\n",
            "Sojourn to lockers is SUCCESSFUL\n",
            "Utilization of Locker Bank 34.262146665325425 %\n",
            "Acceptable Service Level 33.79224030037547\n",
            "No. of Lockers 258\n",
            "Deny Demand - Not enough lockers\n",
            "Deny Demand - Not Enough Dimension Space\n",
            "Try different locker location\n",
            "Zero Utilization\n",
            "Dissatisfactory Service Level\n",
            "No. of Lockers 378\n",
            "Deny Demand - Not enough lockers\n",
            "Deny Demand - Not Enough Dimension Space\n",
            "Try different locker location\n",
            "Zero Utilization\n",
            "Dissatisfactory Service Level\n",
            "No. of Lockers 1558\n",
            "Accept Demand - Enough lockers\n",
            "Accept Demand - Enough Dimension Space\n",
            "Sojourn to lockers is SUCCESSFUL\n",
            "Utilization of Locker Bank 35.13886153240102 %\n",
            "Acceptable Service Level 34.65982028241335\n",
            "No. of Lockers 234\n",
            "Accept Demand - Enough lockers\n",
            "Accept Demand - Enough Dimension Space\n",
            "Sojourn to lockers is SUCCESSFUL\n",
            "Utilization of Locker Bank 71.05643994211289 %\n",
            "Acceptable Service Level 64.1025641025641\n",
            "No. of Lockers 1127\n",
            "Accept Demand - Enough lockers\n",
            "Accept Demand - Enough Dimension Space\n",
            "Sojourn to lockers is SUCCESSFUL\n",
            "Utilization of Locker Bank 56.18384401114206 %\n",
            "Acceptable Service Level 57.497781721384214\n",
            "No. of Lockers 240\n",
            "Deny Demand - Not enough lockers\n",
            "Deny Demand - Not Enough Dimension Space\n",
            "Try different locker location\n",
            "Zero Utilization\n",
            "Dissatisfactory Service Level\n",
            "No. of Lockers 1702\n",
            "Accept Demand - Enough lockers\n",
            "Accept Demand - Enough Dimension Space\n",
            "Sojourn to lockers is SUCCESSFUL\n",
            "Utilization of Locker Bank 39.63589317068663 %\n",
            "Acceptable Service Level 38.07285546415981\n",
            "No. of Lockers 330\n",
            "Accept Demand - Enough lockers\n",
            "Accept Demand - Enough Dimension Space\n",
            "Sojourn to lockers is SUCCESSFUL\n",
            "Utilization of Locker Bank 92.61939218523878 %\n",
            "Acceptable Service Level 90.9090909090909\n",
            "No. of Lockers 416\n",
            "Deny Demand - Not enough lockers\n",
            "Deny Demand - Not Enough Dimension Space\n",
            "Try different locker location\n",
            "Zero Utilization\n",
            "Dissatisfactory Service Level\n",
            "No. of Lockers 2115\n",
            "Accept Demand - Enough lockers\n",
            "Accept Demand - Enough Dimension Space\n",
            "Sojourn to lockers is SUCCESSFUL\n",
            "Utilization of Locker Bank 26.018856447688567 %\n",
            "Acceptable Service Level 25.53191489361702\n",
            "No. of Lockers 348\n",
            "Deny Demand - Not enough lockers\n",
            "Deny Demand - Not Enough Dimension Space\n",
            "Try different locker location\n",
            "Zero Utilization\n",
            "Dissatisfactory Service Level\n",
            "No. of Lockers 690\n",
            "Accept Demand - Enough lockers\n",
            "Accept Demand - Enough Dimension Space\n",
            "Sojourn to lockers is SUCCESSFUL\n",
            "Utilization of Locker Bank 26.281620774569063 %\n",
            "Acceptable Service Level 26.08695652173913\n",
            "No. of Lockers 611\n",
            "Accept Demand - Enough lockers\n",
            "Accept Demand - Enough Dimension Space\n",
            "Sojourn to lockers is SUCCESSFUL\n",
            "Utilization of Locker Bank 83.37557019766852 %\n",
            "Acceptable Service Level 88.379705400982\n",
            "No. of Lockers 931\n",
            "Accept Demand - Enough lockers\n",
            "Accept Demand - Enough Dimension Space\n",
            "Sojourn to lockers is SUCCESSFUL\n",
            "Utilization of Locker Bank 19.291270527225585 %\n",
            "Acceptable Service Level 19.33404940923738\n",
            "No. of Lockers 300\n",
            "Deny Demand - Not enough lockers\n",
            "Deny Demand - Not Enough Dimension Space\n",
            "Try different locker location\n",
            "Zero Utilization\n",
            "Dissatisfactory Service Level\n",
            "No. of Lockers 1440\n",
            "Accept Demand - Enough lockers\n",
            "Accept Demand - Enough Dimension Space\n",
            "Sojourn to lockers is SUCCESSFUL\n",
            "Utilization of Locker Bank 12.81858264329498 %\n",
            "Acceptable Service Level 12.5\n",
            "No. of Lockers 1395\n",
            "Accept Demand - Enough lockers\n",
            "Accept Demand - Enough Dimension Space\n",
            "Sojourn to lockers is SUCCESSFUL\n",
            "Utilization of Locker Bank 39.76608187134503 %\n",
            "Acceptable Service Level 38.70967741935484\n",
            "No. of Lockers 414\n",
            "Deny Demand - Not enough lockers\n",
            "Deny Demand - Not Enough Dimension Space\n",
            "Try different locker location\n",
            "Zero Utilization\n",
            "Dissatisfactory Service Level\n",
            "No. of Lockers 231\n",
            "Deny Demand - Not enough lockers\n",
            "Deny Demand - Not Enough Dimension Space\n",
            "Try different locker location\n",
            "Zero Utilization\n",
            "Dissatisfactory Service Level\n",
            "No. of Lockers 1760\n",
            "Accept Demand - Enough lockers\n",
            "Accept Demand - Enough Dimension Space\n",
            "Sojourn to lockers is SUCCESSFUL\n",
            "Utilization of Locker Bank 17.621543466473884 %\n",
            "Acceptable Service Level 17.045454545454543\n",
            "No. of Lockers 770\n",
            "Accept Demand - Enough lockers\n",
            "Accept Demand - Enough Dimension Space\n",
            "Sojourn to lockers is SUCCESSFUL\n",
            "Utilization of Locker Bank 56.15734334848784 %\n",
            "Acceptable Service Level 58.44155844155844\n",
            "No. of Lockers 2162\n",
            "Accept Demand - Enough lockers\n",
            "Accept Demand - Enough Dimension Space\n",
            "Sojourn to lockers is SUCCESSFUL\n",
            "Utilization of Locker Bank 8.96526508226691 %\n",
            "Acceptable Service Level 8.325624421831638\n",
            "No. of Lockers 1568\n",
            "Accept Demand - Enough lockers\n",
            "Accept Demand - Enough Dimension Space\n",
            "Sojourn to lockers is SUCCESSFUL\n",
            "Utilization of Locker Bank 22.76058631921824 %\n",
            "Acceptable Service Level 22.95918367346939\n",
            "No. of Lockers 405\n",
            "Deny Demand - Not enough lockers\n",
            "Deny Demand - Not Enough Dimension Space\n",
            "Try different locker location\n",
            "Zero Utilization\n",
            "Dissatisfactory Service Level\n",
            "No. of Lockers 329\n",
            "Deny Demand - Not enough lockers\n",
            "Deny Demand - Not Enough Dimension Space\n",
            "Try different locker location\n",
            "Zero Utilization\n",
            "Dissatisfactory Service Level\n",
            "No. of Lockers 624\n",
            "Accept Demand - Enough lockers\n",
            "Accept Demand - Enough Dimension Space\n",
            "Sojourn to lockers is SUCCESSFUL\n",
            "Utilization of Locker Bank 90.25006314725941 %\n",
            "Acceptable Service Level 86.53846153846155\n",
            "No. of Lockers 280\n",
            "Accept Demand - Enough lockers\n",
            "Accept Demand - Enough Dimension Space\n",
            "Sojourn to lockers is SUCCESSFUL\n",
            "Utilization of Locker Bank 61.27527216174183 %\n",
            "Acceptable Service Level 64.28571428571429\n",
            "No. of Lockers 338\n",
            "Deny Demand - Not enough lockers\n",
            "Deny Demand - Not Enough Dimension Space\n",
            "Try different locker location\n",
            "Zero Utilization\n",
            "Dissatisfactory Service Level\n",
            "No. of Lockers 1849\n",
            "Accept Demand - Enough lockers\n",
            "Accept Demand - Enough Dimension Space\n",
            "Sojourn to lockers is SUCCESSFUL\n",
            "Utilization of Locker Bank 9.503570214212854 %\n",
            "Acceptable Service Level 9.73499188750676\n",
            "No. of Lockers 560\n",
            "Accept Demand - Enough lockers\n",
            "Accept Demand - Enough Dimension Space\n",
            "Sojourn to lockers is SUCCESSFUL\n",
            "Utilization of Locker Bank 99.18653576437588 %\n",
            "Acceptable Service Level 96.42857142857143\n",
            "No. of Lockers 432\n",
            "Deny Demand - Not enough lockers\n",
            "Deny Demand - Not Enough Dimension Space\n",
            "Try different locker location\n",
            "Zero Utilization\n",
            "Dissatisfactory Service Level\n",
            "No. of Lockers 448\n",
            "Deny Demand - Not enough lockers\n",
            "Deny Demand - Not Enough Dimension Space\n",
            "Try different locker location\n",
            "Zero Utilization\n",
            "Dissatisfactory Service Level\n",
            "No. of Lockers 736\n",
            "Deny Demand - Not enough lockers\n",
            "Deny Demand - Not Enough Dimension Space\n",
            "Try different locker location\n",
            "Zero Utilization\n",
            "Dissatisfactory Service Level\n",
            "No. of Lockers 644\n",
            "Deny Demand - Not enough lockers\n",
            "Deny Demand - Not Enough Dimension Space\n",
            "Try different locker location\n",
            "Zero Utilization\n",
            "Dissatisfactory Service Level\n",
            "No. of Lockers 760\n",
            "Accept Demand - Enough lockers\n",
            "Accept Demand - Enough Dimension Space\n",
            "Sojourn to lockers is SUCCESSFUL\n",
            "Utilization of Locker Bank 39.55637707948244 %\n",
            "Acceptable Service Level 39.473684210526315\n",
            "No. of Lockers 440\n",
            "Deny Demand - Not enough lockers\n",
            "Deny Demand - Not Enough Dimension Space\n",
            "Try different locker location\n",
            "Zero Utilization\n",
            "Dissatisfactory Service Level\n",
            "No. of Lockers 224\n",
            "Deny Demand - Not enough lockers\n",
            "Deny Demand - Not Enough Dimension Space\n",
            "Try different locker location\n",
            "Zero Utilization\n",
            "Dissatisfactory Service Level\n",
            "No. of Lockers 966\n",
            "Accept Demand - Enough lockers\n",
            "Accept Demand - Enough Dimension Space\n",
            "Sojourn to lockers is SUCCESSFUL\n",
            "Utilization of Locker Bank 83.32007003024033 %\n",
            "Acceptable Service Level 81.98757763975155\n",
            "No. of Lockers 1008\n",
            "Accept Demand - Enough lockers\n",
            "Accept Demand - Enough Dimension Space\n",
            "Sojourn to lockers is SUCCESSFUL\n",
            "Utilization of Locker Bank 62.71601162257225 %\n",
            "Acceptable Service Level 64.28571428571429\n",
            "No. of Lockers 611\n",
            "Deny Demand - Not enough lockers\n",
            "Deny Demand - Not Enough Dimension Space\n",
            "Try different locker location\n",
            "Zero Utilization\n",
            "Dissatisfactory Service Level\n",
            "No. of Lockers 1040\n",
            "Accept Demand - Enough lockers\n",
            "Accept Demand - Enough Dimension Space\n",
            "Sojourn to lockers is SUCCESSFUL\n",
            "Utilization of Locker Bank 51.610369206598584 %\n",
            "Acceptable Service Level 51.92307692307693\n",
            "No. of Lockers 1147\n",
            "Accept Demand - Enough lockers\n",
            "Accept Demand - Enough Dimension Space\n",
            "Sojourn to lockers is SUCCESSFUL\n",
            "Utilization of Locker Bank 47.243986254295535 %\n",
            "Acceptable Service Level 47.079337401918046\n",
            "No. of Lockers 1748\n",
            "Accept Demand - Enough lockers\n",
            "Accept Demand - Enough Dimension Space\n",
            "Sojourn to lockers is SUCCESSFUL\n",
            "Utilization of Locker Bank 29.82186454471471 %\n",
            "Acceptable Service Level 30.892448512585812\n",
            "No. of Lockers 252\n",
            "Deny Demand - Not enough lockers\n",
            "Deny Demand - Not Enough Dimension Space\n",
            "Try different locker location\n",
            "Zero Utilization\n",
            "Dissatisfactory Service Level\n",
            "No. of Lockers 195\n",
            "Accept Demand - Enough lockers\n",
            "Accept Demand - Enough Dimension Space\n",
            "Sojourn to lockers is SUCCESSFUL\n",
            "Utilization of Locker Bank 79.15611814345992 %\n",
            "Acceptable Service Level 76.92307692307693\n",
            "No. of Lockers 992\n",
            "Accept Demand - Enough lockers\n",
            "Accept Demand - Enough Dimension Space\n",
            "Sojourn to lockers is SUCCESSFUL\n",
            "Utilization of Locker Bank 56.3680387409201 %\n",
            "Acceptable Service Level 54.43548387096774\n",
            "No. of Lockers 1280\n",
            "Accept Demand - Enough lockers\n",
            "Accept Demand - Enough Dimension Space\n",
            "Sojourn to lockers is SUCCESSFUL\n",
            "Utilization of Locker Bank 12.043435340572557 %\n",
            "Acceptable Service Level 11.71875\n"
          ],
          "name": "stdout"
        }
      ]
    },
    {
      "cell_type": "markdown",
      "metadata": {
        "id": "wVwWRwKorEQh"
      },
      "source": [
        "##Yearly Service Level"
      ]
    },
    {
      "cell_type": "code",
      "metadata": {
        "id": "aYagC9ZmrHWw",
        "outputId": "aca424b1-132d-4dfa-f9a9-06c140a0f339",
        "colab": {
          "base_uri": "https://localhost:8080/"
        }
      },
      "source": [
        "print('Global service level', servicelevel, '%')"
      ],
      "execution_count": null,
      "outputs": [
        {
          "output_type": "stream",
          "text": [
            "Global service level 11.71875 %\n"
          ],
          "name": "stdout"
        }
      ]
    },
    {
      "cell_type": "markdown",
      "metadata": {
        "id": "qhDbCvgzw44n"
      },
      "source": [
        "##Locker Design Layout for Given Instance"
      ]
    },
    {
      "cell_type": "code",
      "metadata": {
        "id": "K47SoeShEMcq",
        "outputId": "778ea95b-767a-4bdf-c818-c98071bec255",
        "colab": {
          "base_uri": "https://localhost:8080/",
          "height": 347
        }
      },
      "source": [
        "fig6 = plt.figure(constrained_layout=True)\n",
        "\n",
        "gs_kw = dict(width_ratios=widths, height_ratios=heights)\n",
        "fig6, f6_axes = plt.subplots(ncols=column, nrows=rowz, sharex='col', sharey='row', constrained_layout=True,\n",
        "        gridspec_kw=gs_kw)\n",
        "for r, row in enumerate(f6_axes):\n",
        "    for c, ax in enumerate(row):\n",
        "      plt.show()\n",
        "\n",
        "fig6.suptitle('Locker Bank Design', fontsize=40)  "
      ],
      "execution_count": null,
      "outputs": [
        {
          "output_type": "display_data",
          "data": {
            "text/plain": [
              "<Figure size 432x288 with 0 Axes>"
            ]
          },
          "metadata": {
            "tags": []
          }
        },
        {
          "output_type": "display_data",
          "data": {
            "image/png": "[encoded data removed]",
            "text/plain": [
              "<Figure size 432x288 with 35 Axes>"
            ]
          },
          "metadata": {
            "tags": [],
            "needs_background": "light"
          }
        },
        {
          "output_type": "execute_result",
          "data": {
            "text/plain": [
              "Text(0.5, 0.98, 'Locker Bank Design')"
            ]
          },
          "metadata": {
            "tags": []
          },
          "execution_count": 315
        }
      ]
    },
    {
      "cell_type": "markdown",
      "metadata": {
        "id": "KF-W1bb4sAfc"
      },
      "source": [
        "# Task 4"
      ]
    },
    {
      "cell_type": "markdown",
      "metadata": {
        "id": "hE-_haoYsC6O"
      },
      "source": [
        "# Task 5"
      ]
    }
  ]
}