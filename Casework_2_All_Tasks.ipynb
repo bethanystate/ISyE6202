{
  "nbformat": 4,
  "nbformat_minor": 0,
  "metadata": {
    "colab": {
      "name": "Casework 2 - All Tasks",
      "provenance": [],
      "collapsed_sections": [
        "bU7whJdhY8ya",
        "qYPuAstnElsc",
        "brpHcvR_EeLj",
        "EmX1ISUxExXF"
      ],
      "include_colab_link": true
    },
    "kernelspec": {
      "name": "python3",
      "display_name": "Python 3"
    }
  },
  "cells": [
    {
      "cell_type": "markdown",
      "metadata": {
        "id": "view-in-github",
        "colab_type": "text"
      },
      "source": [
        "<a href=\"https://colab.research.google.com/github/bethanystate/ISyE6202/blob/main/Casework_2_All_Tasks.ipynb\" target=\"_parent\"><img src=\"https://colab.research.google.com/assets/colab-badge.svg\" alt=\"Open In Colab\"/></a>"
      ]
    },
    {
      "cell_type": "markdown",
      "metadata": {
        "id": "bU7whJdhY8ya"
      },
      "source": [
        "# Load Excel Data"
      ]
    },
    {
      "cell_type": "code",
      "metadata": {
        "id": "ojMd-euJZTeJ"
      },
      "source": [
        "!pip install -U -q PyDrive\n",
        "from pydrive.auth import GoogleAuth\n",
        "from pydrive.drive import GoogleDrive\n",
        "from google.colab import auth\n",
        "from oauth2client.client import GoogleCredentials\n",
        "\n",
        "auth.authenticate_user()\n",
        "gauth = GoogleAuth()\n",
        "gauth.credentials = GoogleCredentials.get_application_default()\n",
        "drive = GoogleDrive(gauth)\n",
        "\n",
        "file_id = '1mWtI5rM6q3mND741ytjbi-rXiTcNaznH'\n",
        "downloaded = drive.CreateFile({'id': file_id})"
      ],
      "execution_count": 23,
      "outputs": []
    },
    {
      "cell_type": "code",
      "metadata": {
        "id": "eIknj_rYdP8t"
      },
      "source": [
        "downloaded.GetContentFile('GivenData.xlsx')"
      ],
      "execution_count": 24,
      "outputs": []
    },
    {
      "cell_type": "code",
      "metadata": {
        "id": "JqbLFwITdX7Z",
        "outputId": "990d3529-2142-408d-f788-37e4d928cf87",
        "colab": {
          "base_uri": "https://localhost:8080/",
          "height": 34
        }
      },
      "source": [
        "!ls -lha GivenData.xlsx"
      ],
      "execution_count": 25,
      "outputs": [
        {
          "output_type": "stream",
          "text": [
            "-rw-r--r-- 1 root root 26K Oct 22 23:53 GivenData.xlsx\n"
          ],
          "name": "stdout"
        }
      ]
    },
    {
      "cell_type": "code",
      "metadata": {
        "id": "2mfwgCvPdabA"
      },
      "source": [
        "!pip install -q xlrd\n",
        "\n",
        "import pandas as pd\n",
        "from openpyxl import load_workbook\n",
        "\n",
        "df = pd.read_excel('GivenData.xlsx')"
      ],
      "execution_count": 26,
      "outputs": []
    },
    {
      "cell_type": "markdown",
      "metadata": {
        "id": "qYPuAstnElsc"
      },
      "source": [
        "# Task 1 - Simulator"
      ]
    },
    {
      "cell_type": "markdown",
      "metadata": {
        "id": "lAGwrqusfzuk"
      },
      "source": [
        "Demand Based on Year, Period, and Day\n"
      ]
    },
    {
      "cell_type": "code",
      "metadata": {
        "id": "6FEXQu3lf0Mk"
      },
      "source": [
        "import random\n",
        "from numpy.random import choice\n",
        "import itertools\n",
        "import numpy as np\n",
        "\n",
        "demand_table = pd.read_excel('GivenData.xlsx', 'Demand Forecast', usecols=range(1,7), skiprows=range(6,9,1))\n",
        "sim_demand = demand_table.sample(n=1, weights='Probability') #Random yearly demand based on probability\n",
        "\n",
        "period = pd.read_excel('GivenData.xlsx', 'Transpose', usecols=range(4,6), skiprows=range(14,20,1))\n",
        "sim_period = period.sample(n=1) #Random 4-week period\n",
        "\n",
        "day_of_week = pd.read_excel('GivenData.xlsx', 'Transpose', usecols=range(8,10), skiprows=range(8,20,1))\n",
        "period_demand = sim_demand.mul(other=sim_period.iloc[0]['Demand share']) #Demand within a given period\n",
        "\n",
        "space_table = pd.read_excel('GivenData.xlsx', 'Transpose', usecols=range(1,3), skiprows=range(19,20,1))\n",
        "sim_space = space_table.sample(n=1, weights='Probability') #Random locker based on weights"
      ],
      "execution_count": 27,
      "outputs": []
    },
    {
      "cell_type": "code",
      "metadata": {
        "id": "mVMpzsKxntcG",
        "outputId": "4dc03a64-8120-40d3-deeb-a3c96ee0889e",
        "colab": {
          "base_uri": "https://localhost:8080/",
          "height": 0
        }
      },
      "source": [
        "print('The simulated yearly demand forcast is')\n",
        "print(sim_demand)\n",
        "\n",
        "print('The simulated 4-week period and Demand share is')\n",
        "print(sim_period)\n",
        "\n",
        "print('The simulated yearly demand based on given period is')\n",
        "print(period_demand[['Year 1','Year 2','Year 3','Year 4', 'Year 5']])\n",
        "\n",
        "print('The simulated daily demand for a given period and year is')\n",
        "#Daily demand on a given days within a given period\n",
        "daily_demand = pd.concat([period_demand.mul(other = day_of_week.iloc[0]['Day Demand Share']), \n",
        "      period_demand.mul(other = day_of_week.iloc[1]['Day Demand Share']), \n",
        "      period_demand.mul(other = day_of_week.iloc[2]['Day Demand Share']),\n",
        "      period_demand.mul(other = day_of_week.iloc[3]['Day Demand Share']),\n",
        "      period_demand.mul(other = day_of_week.iloc[4]['Day Demand Share']),\n",
        "      period_demand.mul(other = day_of_week.iloc[5]['Day Demand Share']),\n",
        "      period_demand.mul(other = day_of_week.iloc[6]['Day Demand Share'])])\n",
        "print(daily_demand)\n",
        "print('where Row 1 is Sunday, Row 2 Monday, etc.')\n"
      ],
      "execution_count": 28,
      "outputs": [
        {
          "output_type": "stream",
          "text": [
            "The simulated yearly demand forcast is\n",
            "   Probability  Year 1  Year 2  Year 3  Year 4  Year 5\n",
            "3         0.15   50000   70000   75000   75000   65000\n",
            "The simulated 4-week period and Demand share is\n",
            "   4-week period  Demand share\n",
            "7              8           0.1\n",
            "The simulated yearly demand based on given period is\n",
            "   Year 1  Year 2  Year 3  Year 4  Year 5\n",
            "3  5000.0  7000.0  7500.0  7500.0  6500.0\n",
            "The simulated daily demand for a given period and year is\n",
            "   Probability  Year 1  Year 2  Year 3  Year 4  Year 5\n",
            "3      0.00075   250.0   350.0   375.0   375.0   325.0\n",
            "3      0.00150   500.0   700.0   750.0   750.0   650.0\n",
            "3      0.00225   750.0  1050.0  1125.0  1125.0   975.0\n",
            "3      0.00225   750.0  1050.0  1125.0  1125.0   975.0\n",
            "3      0.00270   900.0  1260.0  1350.0  1350.0  1170.0\n",
            "3      0.00330  1100.0  1540.0  1650.0  1650.0  1430.0\n",
            "3      0.00225   750.0  1050.0  1125.0  1125.0   975.0\n",
            "where Row 1 is Sunday, Row 2 Monday, etc.\n"
          ],
          "name": "stdout"
        }
      ]
    },
    {
      "cell_type": "markdown",
      "metadata": {
        "id": "fJty3xBtLfUd"
      },
      "source": [
        "Pick Up and Drop Off Table\n"
      ]
    },
    {
      "cell_type": "code",
      "metadata": {
        "id": "nJ_zKHHkLfCt",
        "outputId": "054655dd-c279-451f-ed42-8167d607e25b",
        "colab": {
          "base_uri": "https://localhost:8080/",
          "height": 0
        }
      },
      "source": [
        "demand_table = pd.read_excel('GivenData.xlsx', 'Pick Drop', header = 0, usecols=range(2,26), skiprows = 1, skipfooter = 1)\n",
        "\n",
        "p = random.randint(0, 23) #pickup time\n",
        "d = random.randint(0, 23) #dropoff time\n",
        "\n",
        "if demand_table.iat[d, p] > 0:\n",
        "  print('Deposit Time', d)\n",
        "  print('Pickup Time', p)\n",
        "  print('Probability of Dropoff and Pickup is', demand_table.iat[d, p], 'x10,000.')\n",
        "else:\n",
        "  print('Deposit Time', d) \n",
        "  print('Pickup Time', p)\n",
        "  print('No pickup or dropoff during this time.')\n",
        "\n",
        "print('The simulated locker space is', sim_space.iloc[0]['Space (ft3)'])\n"
      ],
      "execution_count": 29,
      "outputs": [
        {
          "output_type": "stream",
          "text": [
            "Deposit Time 2\n",
            "Pickup Time 20\n",
            "No pickup or dropoff during this time.\n",
            "The simulated locker space is 2.0\n"
          ],
          "name": "stdout"
        }
      ]
    },
    {
      "cell_type": "markdown",
      "metadata": {
        "id": "brpHcvR_EeLj"
      },
      "source": [
        "# Task 2 - Heuristic for Dynamic Locker Assignment\n",
        "\n"
      ]
    },
    {
      "cell_type": "markdown",
      "metadata": {
        "id": "EP30OE_WOHm0"
      },
      "source": [
        "### *Variables/Parameters*\n",
        "N<sub>d</sub> = number of lockers of dimesion *d*\n",
        "\n",
        "L<sub>xy</sub> = location in grid by *x* row and *y* column\n",
        "\n",
        "D<sub>xy</sub> = dimension of locker measured in grid units\n",
        "\n",
        "A<sub>xy</sub> = assignment of package in to a locker of size *d*\n",
        "\n",
        "L<sub>d</sub><sub>xy</sub> = implementation of locker of{0,1} at position xy\n",
        "\n",
        "M<sub>xy</sub> = location of interactive panel\n",
        "\n",
        "Z<sub>xy</sub> = decision variable if locker is available\n",
        "\n",
        "\n",
        "#Objective\n",
        "*Maximize assignment of lockers at single locker bank location for a given scenario*\n",
        "\n",
        "\n",
        "max $\\sum_{d\\epsilon D} S$<sub>d</sub> - $\\sum_{d\\epsilon D} A$<sub>dd</sub> + $\\lambda$ ($\\sum_{d\\epsilon D} N$<sub>d</sub> + $\\sum M$<sub>xy</sub> + $\\sum D$<sub>xy</sub>) $\\forall$$x\\epsilon$X, $\\forall$$y\\epsilon$Y\n",
        "\n",
        "\n",
        "\n",
        "#Constraints\n",
        "\n",
        "#### Current Demand Satisfaction\n",
        "S<sub>d</sub> = $\\sum$A $\\leq$d<sub>d</sub>\n",
        "\n",
        "####Total Lockers in Bank Design\n",
        "N<sub>d</sub> = $\\sum$L<sub>d</sub> $\\forall$d$\\epsilon$D\n",
        "\n",
        "####Unique Assignment of Item in a Locker\n",
        "$\\sum$A<sub>dd</sub>$ \\leq$L<sub>dxy</sub>\n",
        "\n",
        "####Allocation to Avoid Overlaps in Locker and Interactive Panel Assignment\n",
        "$\\sum$L<sub>dxy</sub>+$\\sum$Mxy = Z<sub>xy</sub> $\\forall$$x\\epsilon$X, $\\forall$$y\\epsilon$Y\n",
        "\n",
        "####Prevents gaps or \"empty\" space in design\n",
        "Z<sub>xy</sub> $\\leq$L <sub>xy</sub>/2 \n",
        "\n",
        "Z<sub>xy</sub> $\\geq$L <sub>xy</sub> -1\n",
        "\n",
        "$\\forall$$x\\epsilon$X, $\\forall$$y\\epsilon$Y"
      ]
    },
    {
      "cell_type": "markdown",
      "metadata": {
        "id": "EmX1ISUxExXF"
      },
      "source": [
        "# Task 3 - Extend Simulator"
      ]
    },
    {
      "cell_type": "markdown",
      "metadata": {
        "id": "mhSEXeR1m2BK"
      },
      "source": [
        "##Locker Bank Layout"
      ]
    },
    {
      "cell_type": "code",
      "metadata": {
        "id": "uSw4NR37rpzw"
      },
      "source": [
        "import matplotlib\n",
        "import matplotlib.pyplot as plt\n",
        "import matplotlib.gridspec as gridspec"
      ],
      "execution_count": 30,
      "outputs": []
    },
    {
      "cell_type": "code",
      "metadata": {
        "id": "L4HrrNX6w1yo",
        "outputId": "f28edfd9-ae12-4a1f-eff9-d5b0f39b1c88",
        "colab": {
          "base_uri": "https://localhost:8080/",
          "height": 102
        }
      },
      "source": [
        "import random\n",
        "column = random.randrange(5, 50, 1)\n",
        "rowz = random.randrange(5, 50, 1)\n",
        "no_lockers = column * rowz\n",
        "print('No. of Lockers', no_lockers)\n",
        "print('No. of columns', column)\n",
        "print('No. of rows', rowz)\n",
        "\n",
        "widths = []\n",
        "for i in range(0,column):\n",
        "  n = random.randint(1,5)\n",
        "  widths.append(n)\n",
        "print('Widths of Lockers', widths)\n",
        "\n",
        "heights = []\n",
        "for i in range(0,rowz):\n",
        "  n = random.randint(1,5)\n",
        "  heights.append(n)\n",
        "print('Heights of Lockers', heights)"
      ],
      "execution_count": 31,
      "outputs": [
        {
          "output_type": "stream",
          "text": [
            "No. of Lockers 1104\n",
            "No. of columns 46\n",
            "No. of rows 24\n",
            "Widths of Lockers [1, 1, 1, 5, 4, 5, 4, 5, 3, 1, 1, 5, 5, 1, 2, 1, 2, 1, 1, 2, 4, 1, 3, 4, 3, 4, 3, 3, 4, 3, 3, 5, 1, 3, 3, 5, 5, 1, 1, 2, 5, 5, 5, 3, 5, 1]\n",
            "Heights of Lockers [2, 5, 4, 2, 4, 1, 2, 5, 5, 4, 3, 5, 1, 5, 3, 3, 3, 2, 3, 5, 1, 3, 5, 2]\n"
          ],
          "name": "stdout"
        }
      ]
    },
    {
      "cell_type": "markdown",
      "metadata": {
        "id": "kaSIrOORBFPX"
      },
      "source": [
        "##Locker Sizes"
      ]
    },
    {
      "cell_type": "code",
      "metadata": {
        "id": "5UzPKk0EBFb1",
        "outputId": "d80159c2-e16b-4300-c0ee-0116ce647fd8",
        "colab": {
          "base_uri": "https://localhost:8080/",
          "height": 34
        }
      },
      "source": [
        "#sizes of lockers in ft3\n",
        "sizes = []\n",
        "for i in range(no_lockers):\n",
        "  sim_space = space_table.sample(n=1, weights='Probability') #Random locker based on weights\n",
        "  n = sim_space.iloc[0]['Space (ft3)']\n",
        "  sizes.append(n)\n",
        "#print(sizes)\n",
        "\n",
        "#total dimensions of lockers\n",
        "total = 0\n",
        "for ele in range(0, len(sizes)):\n",
        "  total = total + sizes[(ele)]\n",
        "print('Total Dimensions of Lockers:', total, 'ft3')\n"
      ],
      "execution_count": 32,
      "outputs": [
        {
          "output_type": "stream",
          "text": [
            "Total Dimensions of Lockers: 7103.0 ft3\n"
          ],
          "name": "stdout"
        }
      ]
    },
    {
      "cell_type": "markdown",
      "metadata": {
        "id": "e8aWyxdW5EA2"
      },
      "source": [
        "##Demand Rejection or Acceptance Based on Demand\n"
      ]
    },
    {
      "cell_type": "code",
      "metadata": {
        "id": "Cl0mFFKuHrfQ",
        "outputId": "0a6d3249-126a-4bc1-8075-75bcaf252a01",
        "colab": {
          "base_uri": "https://localhost:8080/",
          "height": 34
        }
      },
      "source": [
        "ignore_prob = daily_demand.to_numpy()\n",
        "fiveyar = random.choice(ignore_prob[:,1:])\n",
        "dailydemand = random.choice(fiveyar)\n",
        "dailydemand = int(dailydemand)\n",
        "print('Demand for Delivery:', dailydemand)"
      ],
      "execution_count": 33,
      "outputs": [
        {
          "output_type": "stream",
          "text": [
            "Demand for Delivery: 325\n"
          ],
          "name": "stdout"
        }
      ]
    },
    {
      "cell_type": "code",
      "metadata": {
        "id": "VJTESywfKme4",
        "outputId": "09141f14-0a4a-4355-d3aa-823dff2a9c99",
        "colab": {
          "base_uri": "https://localhost:8080/",
          "height": 34
        }
      },
      "source": [
        "if dailydemand <= no_lockers:\n",
        "  print('Accept Demand - Enough lockers')\n",
        "else:\n",
        "  print('Deny Demand - Not enough lockers')"
      ],
      "execution_count": 34,
      "outputs": [
        {
          "output_type": "stream",
          "text": [
            "Accept Demand - Enough lockers\n"
          ],
          "name": "stdout"
        }
      ]
    },
    {
      "cell_type": "markdown",
      "metadata": {
        "id": "IrjoIPGLLNG5"
      },
      "source": [
        "##Sojourn to Lockers - Based on Dimensions"
      ]
    },
    {
      "cell_type": "code",
      "metadata": {
        "id": "97GgIgPKLU5w",
        "outputId": "afa230e4-5d50-4cfa-89d5-3a70e8472e61",
        "colab": {
          "base_uri": "https://localhost:8080/",
          "height": 34
        }
      },
      "source": [
        "#sizes of packages in ft3\n",
        "packages = []\n",
        "for i in range(dailydemand):\n",
        "  sim_space = space_table.sample(n=1, weights='Probability') #Random locker based on weights\n",
        "  n = sim_space.iloc[0]['Space (ft3)']\n",
        "  packages.append(n)\n",
        "#print(packages)\n",
        "\n",
        "#total dimensions of packages\n",
        "totalpk = 0\n",
        "for ele in range(0, len(packages)):\n",
        "  totalpk = totalpk + packages[(ele)]\n",
        "print('Total Dimensions of Packages:', totalpk, 'ft3')\n"
      ],
      "execution_count": 35,
      "outputs": [
        {
          "output_type": "stream",
          "text": [
            "Total Dimensions of Packages: 2019.0 ft3\n"
          ],
          "name": "stdout"
        }
      ]
    },
    {
      "cell_type": "code",
      "metadata": {
        "id": "fTYgkNGJLbtv",
        "outputId": "da66fa92-db17-43e9-adec-9d9e0f0a8854",
        "colab": {
          "base_uri": "https://localhost:8080/",
          "height": 34
        }
      },
      "source": [
        "if totalpk <= total:\n",
        "  print('Accept Demand - Enough Dimension Space')\n",
        "else:\n",
        "  print('Deny Demand - Not Enough Dimension Space')"
      ],
      "execution_count": 36,
      "outputs": [
        {
          "output_type": "stream",
          "text": [
            "Accept Demand - Enough Dimension Space\n"
          ],
          "name": "stdout"
        }
      ]
    },
    {
      "cell_type": "code",
      "metadata": {
        "id": "_A1Ef1wPMyRD",
        "outputId": "3373624d-1b50-4c23-da1a-99c02dbcb532",
        "colab": {
          "base_uri": "https://localhost:8080/",
          "height": 34
        }
      },
      "source": [
        "if dailydemand <= no_lockers and totalpk <= total:\n",
        "  print('Sojourn to lockers is SUCCESSFUL')\n",
        "else:\n",
        "  print('Try different locker location')"
      ],
      "execution_count": 37,
      "outputs": [
        {
          "output_type": "stream",
          "text": [
            "Sojourn to lockers is SUCCESSFUL\n"
          ],
          "name": "stdout"
        }
      ]
    },
    {
      "cell_type": "markdown",
      "metadata": {
        "id": "N7oE_uyNNRPJ"
      },
      "source": [
        "Utilization of Locker Bank (Based on Dimension)"
      ]
    },
    {
      "cell_type": "code",
      "metadata": {
        "id": "4_GG6h_SNXO_",
        "outputId": "12dfe423-8c52-4fd5-f620-38704b667e73",
        "colab": {
          "base_uri": "https://localhost:8080/",
          "height": 34
        }
      },
      "source": [
        "if totalpk <= total:\n",
        "  utilization = (totalpk/total)*100\n",
        "  print('Utilization of Locker Bank', utilization, '%')\n",
        "else:\n",
        "  print('Zero Utilization')"
      ],
      "execution_count": 38,
      "outputs": [
        {
          "output_type": "stream",
          "text": [
            "Utilization of Locker Bank 28.424609320005633 %\n"
          ],
          "name": "stdout"
        }
      ]
    },
    {
      "cell_type": "markdown",
      "metadata": {
        "id": "7BfhaRltN_QD"
      },
      "source": [
        "##Daily Service Level "
      ]
    },
    {
      "cell_type": "code",
      "metadata": {
        "id": "oNNxE6yuOBHD",
        "outputId": "e0f617c0-7b09-4686-aaa2-44b7d9dfc723",
        "colab": {
          "base_uri": "https://localhost:8080/",
          "height": 34
        }
      },
      "source": [
        "#Daily\n",
        "if dailydemand <= no_lockers:\n",
        "  servicelevel = (dailydemand/no_lockers) * 100\n",
        "  print('Daily Service Level', servicelevel, '%')\n",
        "else:\n",
        "  print('Dissatisfactory Service Level')"
      ],
      "execution_count": 39,
      "outputs": [
        {
          "output_type": "stream",
          "text": [
            "Daily Service Level 29.438405797101446 %\n"
          ],
          "name": "stdout"
        }
      ]
    },
    {
      "cell_type": "code",
      "metadata": {
        "id": "ZTef6Xv8PKgy"
      },
      "source": [
        "#Yearly\n",
        "\n",
        "servicelevel = 0\n",
        "weeks_yr = []\n",
        "for y in range(52):\n",
        "  column = random.randrange(5, 50, 1)\n",
        "  rowz = random.randrange(5, 50, 1)\n",
        "  no_lockers = column * rowz\n",
        "  print('No. of Lockers', no_lockers)\n",
        "  #print('No. of columns', column)\n",
        "  #print('No. of rows', rowz)\n",
        "\n",
        "  widths = []\n",
        "  for i in range(0,column):\n",
        "    n = random.randint(1,5)\n",
        "    widths.append(n)\n",
        "  #print('Widths of Lockers', widths)\n",
        "\n",
        "  heights = []\n",
        "  for i in range(0,rowz):\n",
        "    n = random.randint(1,5)\n",
        "    heights.append(n)\n",
        "  #print('Heights of Lockers', heights)\n",
        "\n",
        "  #sizes of lockers in ft3\n",
        "  sizes = []\n",
        "  for i in range(no_lockers):\n",
        "    sim_space = space_table.sample(n=1, weights='Probability') #Random locker based on weights\n",
        "    n = sim_space.iloc[0]['Space (ft3)']\n",
        "    sizes.append(n)\n",
        "  #print(sizes)\n",
        "\n",
        "  #total dimensions of lockers\n",
        "  total = 0\n",
        "  for ele in range(0, len(sizes)):\n",
        "    total = total + sizes[(ele)]\n",
        "  #print('Total Dimensions of Lockers:', total, 'ft3')\n",
        "\n",
        "  ignore_prob = daily_demand.to_numpy()\n",
        "  fiveyar = random.choice(ignore_prob[:,1:])\n",
        "  dailydemand = random.choice(fiveyar)\n",
        "  dailydemand = int(dailydemand)\n",
        "  #print('Demand for Delivery:', dailydemand)\n",
        "\n",
        "  if dailydemand <= no_lockers:\n",
        "    print('Accept Demand - Enough lockers')\n",
        "  else:\n",
        "    print('Deny Demand - Not enough lockers')\n",
        "\n",
        "  #sizes of packages in ft3\n",
        "  packages = []\n",
        "  for i in range(dailydemand):\n",
        "    sim_space = space_table.sample(n=1, weights='Probability') #Random locker based on weights\n",
        "    n = sim_space.iloc[0]['Space (ft3)']\n",
        "    packages.append(n)\n",
        "  #print(packages)\n",
        "\n",
        "  #total dimensions of packages\n",
        "  totalpk = 0\n",
        "  for ele in range(0, len(packages)):\n",
        "    totalpk = totalpk + packages[(ele)]\n",
        "  #print('Total Dimensions of Packages:', totalpk, 'ft3')\n",
        "\n",
        "  if totalpk <= total:\n",
        "    print('Accept Demand - Enough Dimension Space')\n",
        "  else:\n",
        "    print('Deny Demand - Not Enough Dimension Space')\n",
        "\n",
        "  if dailydemand <= no_lockers and totalpk <= total:\n",
        "    print('Sojourn to lockers is SUCCESSFUL')\n",
        "  else:\n",
        "    print('Try different locker location')\n",
        "\n",
        "  if totalpk <= total:\n",
        "    utilization = (totalpk/total)*100\n",
        "    print('Utilization of Locker Bank', utilization, '%')\n",
        "  else:\n",
        "    print('Zero Utilization')\n",
        "\n",
        "  #Daily\n",
        "  if dailydemand <= no_lockers:\n",
        "    servicelevel = (dailydemand/no_lockers) * 100\n",
        "    print('Acceptable Service Level', servicelevel)\n",
        "  else:\n",
        "    print('Dissatisfactory Service Level')\n"
      ],
      "execution_count": null,
      "outputs": []
    },
    {
      "cell_type": "markdown",
      "metadata": {
        "id": "wVwWRwKorEQh"
      },
      "source": [
        "##Yearly Service Level"
      ]
    },
    {
      "cell_type": "code",
      "metadata": {
        "id": "aYagC9ZmrHWw",
        "outputId": "f51b497e-7abc-45c2-d299-c6918e6c7a88",
        "colab": {
          "base_uri": "https://localhost:8080/",
          "height": 34
        }
      },
      "source": [
        "print('Global service level', servicelevel, '%')"
      ],
      "execution_count": 40,
      "outputs": [
        {
          "output_type": "stream",
          "text": [
            "Global service level 29.438405797101446 %\n"
          ],
          "name": "stdout"
        }
      ]
    },
    {
      "cell_type": "markdown",
      "metadata": {
        "id": "qhDbCvgzw44n"
      },
      "source": [
        "##Locker Design Layout for Given Instance"
      ]
    },
    {
      "cell_type": "code",
      "metadata": {
        "id": "y5LRJopmz7ox"
      },
      "source": [
        "import random\n",
        "column = random.randrange(5, 10, 1)\n",
        "rowz = random.randrange(5, 10, 1)\n",
        "print(column, rowz)\n",
        "\n",
        "widths = []\n",
        "for i in range(0,column):\n",
        "  n = random.randint(1,5)\n",
        "  widths.append(n)\n",
        "#print(widths)\n",
        "\n",
        "heights = []\n",
        "for i in range(0,rowz):\n",
        "  n = random.randint(1,5)\n",
        "  heights.append(n)\n",
        "#print(heights)"
      ],
      "execution_count": null,
      "outputs": []
    },
    {
      "cell_type": "code",
      "metadata": {
        "id": "K47SoeShEMcq",
        "outputId": "fe739ed1-58c1-4f02-a780-af11ee5ae7f4",
        "colab": {
          "base_uri": "https://localhost:8080/",
          "height": 347
        }
      },
      "source": [
        "fig6 = plt.figure(constrained_layout=True)\n",
        "\n",
        "gs_kw = dict(width_ratios=widths, height_ratios=heights)\n",
        "fig6, f6_axes = plt.subplots(ncols=column, nrows=rowz, sharex='col', sharey='row', constrained_layout=True,\n",
        "        gridspec_kw=gs_kw)\n",
        "for r, row in enumerate(f6_axes):\n",
        "    for c, ax in enumerate(row):\n",
        "      plt.show()\n",
        "\n",
        "fig6.suptitle('Locker Bank Design', fontsize=40)  "
      ],
      "execution_count": 48,
      "outputs": [
        {
          "output_type": "display_data",
          "data": {
            "text/plain": [
              "<Figure size 432x288 with 0 Axes>"
            ]
          },
          "metadata": {
            "tags": []
          }
        },
        {
          "output_type": "display_data",
          "data": {
            "image/png": "[encoded data removed]",
            "text/plain": [
              "<Figure size 432x288 with 48 Axes>"
            ]
          },
          "metadata": {
            "tags": [],
            "needs_background": "light"
          }
        },
        {
          "output_type": "execute_result",
          "data": {
            "text/plain": [
              "Text(0.5, 0.98, 'Locker Bank Design')"
            ]
          },
          "metadata": {
            "tags": []
          },
          "execution_count": 48
        }
      ]
    },
    {
      "cell_type": "markdown",
      "metadata": {
        "id": "KF-W1bb4sAfc"
      },
      "source": [
        "# Task 4 - Heuristic for Fixed Locker Bank Configuration"
      ]
    },
    {
      "cell_type": "markdown",
      "metadata": {
        "id": "v3kWYOS_c3Qh"
      },
      "source": [
        "To adjust from a dynamic to a fixed design configuration, an upper bound was set and the total dimensions of the design is constrained to equal that bound. "
      ]
    },
    {
      "cell_type": "markdown",
      "metadata": {
        "id": "cVVgwXvdN6ys"
      },
      "source": [
        "### *Variables/Parameters*\n",
        "N<sub>d</sub> = number of lockers of dimesion *d*\n",
        "\n",
        "L<sub>xy</sub> = location in grid by *x* row and *y* column\n",
        "\n",
        "D<sub>xy</sub> = dimension of locker measured in grid units\n",
        "\n",
        "U<sub>xy</sub> = upper bounds of the horizontal and vertical dimensions of the locker bank\n",
        "\n",
        "A<sub>xy</sub> = assignment of package in to a locker of size *d*\n",
        "\n",
        "L<sub>d</sub><sub>xy</sub> = implementation of locker of{0,1} at position xy\n",
        "\n",
        "M<sub>xy</sub> = location of interactive panel\n",
        "\n",
        "Z<sub>xy</sub> = decision variable if locker is available\n",
        "\n",
        "\n",
        "#Objective\n",
        "*Maximize assignment of lockers at single locker bank location for a given scenario*\n",
        "\n",
        "max $\\sum_{d\\epsilon D} S$<sub>d</sub> - $\\sum_{d\\epsilon D} A$<sub>dd</sub> + $\\lambda$ ($\\sum_{d\\epsilon D} N$<sub>d</sub> + $\\sum M$<sub>xy</sub> + $\\sum D$<sub>xy</sub>) $\\forall$$x\\epsilon$X, $\\forall$$y\\epsilon$Y\n",
        "\n",
        "#Constraints\n",
        "\n",
        "#### Current Demand Satisfaction\n",
        "S<sub>d</sub> = $\\sum$A $\\leq$d<sub>d</sub>\n",
        "\n",
        "#### Fixes the Dimension of Locker Bank\n",
        "$\\sum $D<sub>xy</sub> = U<sub>xy</sub>\n",
        "\n",
        "####Total Lockers in Bank Design\n",
        "N<sub>d</sub> = $\\sum$L<sub>d</sub> $\\forall$d$\\epsilon$D\n",
        "\n",
        "####Unique Assignment of Item in a Locker\n",
        "$\\sum$A<sub>dd</sub>$ \\leq $L<sub>dxy</sub>\n",
        "\n",
        "####Allocation to Avoid Overlaps in Locker and Interactive Panel Assignment\n",
        "$\\sum$L<sub>dxy</sub>+$\\sum$Mxy = Z<sub>xy</sub> $\\forall$$x\\epsilon$X, $\\forall$$y\\epsilon$Y\n",
        "\n",
        "####Prevents gaps or \"empty\" space in design\n",
        "Z $\\leq$L <sub>xy</sub>/2 \n",
        "\n",
        "Z$\\geq$L <sub>xy</sub> -1\n",
        "\n",
        "$\\forall$$x\\epsilon$X, $\\forall$$y\\epsilon$Y"
      ]
    },
    {
      "cell_type": "markdown",
      "metadata": {
        "id": "hE-_haoYsC6O"
      },
      "source": [
        "# Task 4 cont'd and Task 5\n",
        "####Proposed Design Alternatives and Performance Assessment"
      ]
    },
    {
      "cell_type": "markdown",
      "metadata": {
        "id": "F7sG8MbXdiY9"
      },
      "source": [
        "##Design Alternative No. 1 - Large\n"
      ]
    },
    {
      "cell_type": "markdown",
      "metadata": {
        "id": "4UAu9onvglQe"
      },
      "source": [
        "* Scenario 2\n",
        "* 9th 4-week period\n",
        "* Demand for Delivery: 900\n",
        "\n",
        "* Horizontal Upper Bound: 50\n",
        "* Vertical Upper Bound: 50\n",
        "* No. of Lockers 1200\n",
        "* No. of columns 48\n",
        "* No. of rows 25\n",
        "* Total Dimensions of Lockers: 7722.0 ft3\n",
        "* Accept Demand - Enough lockers\n",
        "* Total Dimensions of Packages: 5819.0 ft3\n",
        "* Accept Demand - Enough Dimension Space\n",
        "* Utilization of Locker Bank 75.35612535612536%\n",
        "* Service Level 75.0 %\n"
      ]
    },
    {
      "cell_type": "markdown",
      "metadata": {
        "id": "L1ynED57dvZp"
      },
      "source": [
        "##Design Alternative No. 2 - Medium"
      ]
    },
    {
      "cell_type": "markdown",
      "metadata": {
        "id": "RFFt6zSwjDfc"
      },
      "source": [
        "* Scenario 2\n",
        "* 9th 4-week period\n",
        "* Demand for Delivery: 900\n",
        "* Horizontal Upper Bound: 25\n",
        "* Vertical Upper Bound: 25\n",
        "* No. of Lockers 84\n",
        "* No. of columns 14\n",
        "* No. of rows 6\n",
        "* Total Dimensions of Lockers: 573.0 ft3\n",
        "* Deny Demand - Not Enough Lockers\n",
        "* Total Dimensions of Packages: 5648.0 \n",
        "* Deny Demand - Not Enough Dimension Space\n",
        "* 100% Utilization if Deposited\n",
        "* Service Level 9.333 %"
      ]
    },
    {
      "cell_type": "markdown",
      "metadata": {
        "id": "mnT6NRfyd3YS"
      },
      "source": [
        "## Design Alternative No. 3 - Small\n"
      ]
    },
    {
      "cell_type": "markdown",
      "metadata": {
        "id": "oB1ftnxPk0-j"
      },
      "source": [
        "* Scenario 3\n",
        "* 9th 4-week period\n",
        "* Demand for Delivery: 900\n",
        "* Horizontal Upper Bound: 10\n",
        "* Vertical Upper Bound: 10\n",
        "* No. of Lockers 35\n",
        "* No. of columns 7\n",
        "* No. of rows 5\n",
        "* Total Dimensions of Lockers: 259.0 ft3\n",
        "* Deny Demand - Not enough lockers\n",
        "* Total Dimensions of Packages: 5766.0 ft3\n",
        "* Deny Demand - Not Enough Dimension Space\n",
        "* 100% Utilization if Deposited\n",
        "* Service Level 3.888 %"
      ]
    },
    {
      "cell_type": "markdown",
      "metadata": {
        "id": "auY5jxI9d8P0"
      },
      "source": [
        "## Design Alternative No. 4 - Large"
      ]
    },
    {
      "cell_type": "markdown",
      "metadata": {
        "id": "25LrTWdtoIql"
      },
      "source": [
        "* Scenario 1\n",
        "* 12th 4-week period\n",
        "* Demand for Delivery: 130\n",
        "* Horizontal Upper Bound: 50\n",
        "* Vertical Upper Bound: 50\n",
        "* No. of Lockers 1760\n",
        "* No. of columns 44\n",
        "* No. of rows 40\n",
        "* Total Dimensions of Lockers: 11195.0 ft3\n",
        "* Accept Demand - Enough lockers\n",
        "* Total Dimensions of Packages: 812.0 ft3\n",
        "* Accept Demand - Enough Dimension Space\n",
        "* Utilization of Locker Bank 7.253%\n",
        "* Service Level 100%\n"
      ]
    },
    {
      "cell_type": "markdown",
      "metadata": {
        "id": "LkSM2BgGd-B9"
      },
      "source": [
        "## Design Alternative No. 5 - Medium"
      ]
    },
    {
      "cell_type": "markdown",
      "metadata": {
        "id": "xLLHTbQdoIO0"
      },
      "source": [
        "* Scenario 1\n",
        "* 12th 4-week period\n",
        "* Demand for Delivery: 130\n",
        "* Horizontal Upper Bound: 25\n",
        "* Vertical Upper Bound: 25\n",
        "* No. of Lockers 182\n",
        "* No. of columns 14\n",
        "* No. of rows 13\n",
        "* Total Dimensions of Lockers: 1206.0 ft3\n",
        "* Accept Demand - Enough lockers\n",
        "* Total Dimensions of Packages: 897.0 ft3\n",
        "* Accept Demand - Enough Dimension Space\n",
        "* Utilization of Locker Bank 74.378 %\n",
        "* Daily Service Level 71.428* %"
      ]
    }
  ]
}