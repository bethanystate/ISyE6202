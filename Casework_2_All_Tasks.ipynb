{
  "nbformat": 4,
  "nbformat_minor": 0,
  "metadata": {
    "colab": {
      "name": "Casework 2 - All Tasks",
      "provenance": [],
      "collapsed_sections": [
        "bU7whJdhY8ya",
        "qYPuAstnElsc",
        "brpHcvR_EeLj",
        "EmX1ISUxExXF"
      ],
      "include_colab_link": true
    },
    "kernelspec": {
      "name": "python3",
      "display_name": "Python 3"
    }
  },
  "cells": [
    {
      "cell_type": "markdown",
      "metadata": {
        "id": "view-in-github",
        "colab_type": "text"
      },
      "source": [
        "<a href=\"https://colab.research.google.com/github/bethanystate/ISyE6202/blob/main/Casework_2_All_Tasks.ipynb\" target=\"_parent\"><img src=\"https://colab.research.google.com/assets/colab-badge.svg\" alt=\"Open In Colab\"/></a>"
      ]
    },
    {
      "cell_type": "markdown",
      "metadata": {
        "id": "bU7whJdhY8ya"
      },
      "source": [
        "# Load Excel Data"
      ]
    },
    {
      "cell_type": "code",
      "metadata": {
        "id": "ojMd-euJZTeJ"
      },
      "source": [
        "!pip install -U -q PyDrive\n",
        "from pydrive.auth import GoogleAuth\n",
        "from pydrive.drive import GoogleDrive\n",
        "from google.colab import auth\n",
        "from oauth2client.client import GoogleCredentials\n",
        "\n",
        "auth.authenticate_user()\n",
        "gauth = GoogleAuth()\n",
        "gauth.credentials = GoogleCredentials.get_application_default()\n",
        "drive = GoogleDrive(gauth)\n",
        "\n",
        "file_id = '1mWtI5rM6q3mND741ytjbi-rXiTcNaznH'\n",
        "downloaded = drive.CreateFile({'id': file_id})"
      ],
      "execution_count": 1,
      "outputs": []
    },
    {
      "cell_type": "code",
      "metadata": {
        "id": "eIknj_rYdP8t"
      },
      "source": [
        "downloaded.GetContentFile('GivenData.xlsx')"
      ],
      "execution_count": 2,
      "outputs": []
    },
    {
      "cell_type": "code",
      "metadata": {
        "id": "JqbLFwITdX7Z",
        "outputId": "7e4fa147-d2f4-4a5a-ed75-4c1458880888",
        "colab": {
          "base_uri": "https://localhost:8080/",
          "height": 34
        }
      },
      "source": [
        "!ls -lha GivenData.xlsx"
      ],
      "execution_count": 3,
      "outputs": [
        {
          "output_type": "stream",
          "text": [
            "-rw-r--r-- 1 root root 26K Oct 22 23:46 GivenData.xlsx\n"
          ],
          "name": "stdout"
        }
      ]
    },
    {
      "cell_type": "code",
      "metadata": {
        "id": "2mfwgCvPdabA"
      },
      "source": [
        "!pip install -q xlrd\n",
        "\n",
        "import pandas as pd\n",
        "from openpyxl import load_workbook\n",
        "\n",
        "df = pd.read_excel('GivenData.xlsx')"
      ],
      "execution_count": 4,
      "outputs": []
    },
    {
      "cell_type": "markdown",
      "metadata": {
        "id": "qYPuAstnElsc"
      },
      "source": [
        "# Task 1 - Simulator"
      ]
    },
    {
      "cell_type": "markdown",
      "metadata": {
        "id": "lAGwrqusfzuk"
      },
      "source": [
        "Demand Based on Year, Period, and Day\n"
      ]
    },
    {
      "cell_type": "code",
      "metadata": {
        "id": "6FEXQu3lf0Mk"
      },
      "source": [
        "import random\n",
        "from numpy.random import choice\n",
        "import itertools\n",
        "import numpy as np\n",
        "\n",
        "demand_table = pd.read_excel('GivenData.xlsx', 'Demand Forecast', usecols=range(1,7), skiprows=range(6,9,1))\n",
        "sim_demand = demand_table.sample(n=1, weights='Probability') #Random yearly demand based on probability\n",
        "\n",
        "period = pd.read_excel('GivenData.xlsx', 'Transpose', usecols=range(4,6), skiprows=range(14,20,1))\n",
        "sim_period = period.sample(n=1) #Random 4-week period\n",
        "\n",
        "day_of_week = pd.read_excel('GivenData.xlsx', 'Transpose', usecols=range(8,10), skiprows=range(8,20,1))\n",
        "period_demand = sim_demand.mul(other=sim_period.iloc[0]['Demand share']) #Demand within a given period\n",
        "\n",
        "space_table = pd.read_excel('GivenData.xlsx', 'Transpose', usecols=range(1,3), skiprows=range(19,20,1))\n",
        "sim_space = space_table.sample(n=1, weights='Probability') #Random locker based on weights"
      ],
      "execution_count": 5,
      "outputs": []
    },
    {
      "cell_type": "code",
      "metadata": {
        "id": "mVMpzsKxntcG",
        "outputId": "6c621b75-a68e-4bb9-fa08-8045957eec4d",
        "colab": {
          "base_uri": "https://localhost:8080/",
          "height": 0
        }
      },
      "source": [
        "print('The simulated yearly demand forcast is')\n",
        "print(sim_demand)\n",
        "\n",
        "print('The simulated 4-week period and Demand share is')\n",
        "print(sim_period)\n",
        "\n",
        "print('The simulated yearly demand based on given period is')\n",
        "print(period_demand[['Year 1','Year 2','Year 3','Year 4', 'Year 5']])\n",
        "\n",
        "print('The simulated daily demand for a given period and year is')\n",
        "#Daily demand on a given days within a given period\n",
        "daily_demand = pd.concat([period_demand.mul(other = day_of_week.iloc[0]['Day Demand Share']), \n",
        "      period_demand.mul(other = day_of_week.iloc[1]['Day Demand Share']), \n",
        "      period_demand.mul(other = day_of_week.iloc[2]['Day Demand Share']),\n",
        "      period_demand.mul(other = day_of_week.iloc[3]['Day Demand Share']),\n",
        "      period_demand.mul(other = day_of_week.iloc[4]['Day Demand Share']),\n",
        "      period_demand.mul(other = day_of_week.iloc[5]['Day Demand Share']),\n",
        "      period_demand.mul(other = day_of_week.iloc[6]['Day Demand Share'])])\n",
        "print(daily_demand)\n",
        "print('where Row 1 is Sunday, Row 2 Monday, etc.')\n"
      ],
      "execution_count": 6,
      "outputs": [
        {
          "output_type": "stream",
          "text": [
            "The simulated yearly demand forcast is\n",
            "   Probability  Year 1  Year 2  Year 3  Year 4  Year 5\n",
            "0          0.3   80000   90000   10000  105000  110000\n",
            "The simulated 4-week period and Demand share is\n",
            "    4-week period  Demand share\n",
            "11             12           0.1\n",
            "The simulated yearly demand based on given period is\n",
            "   Year 1  Year 2  Year 3   Year 4   Year 5\n",
            "0  8000.0  9000.0  1000.0  10500.0  11000.0\n",
            "The simulated daily demand for a given period and year is\n",
            "   Probability  Year 1  Year 2  Year 3  Year 4  Year 5\n",
            "0       0.0015   400.0   450.0    50.0   525.0   550.0\n",
            "0       0.0030   800.0   900.0   100.0  1050.0  1100.0\n",
            "0       0.0045  1200.0  1350.0   150.0  1575.0  1650.0\n",
            "0       0.0045  1200.0  1350.0   150.0  1575.0  1650.0\n",
            "0       0.0054  1440.0  1620.0   180.0  1890.0  1980.0\n",
            "0       0.0066  1760.0  1980.0   220.0  2310.0  2420.0\n",
            "0       0.0045  1200.0  1350.0   150.0  1575.0  1650.0\n",
            "where Row 1 is Sunday, Row 2 Monday, etc.\n"
          ],
          "name": "stdout"
        }
      ]
    },
    {
      "cell_type": "markdown",
      "metadata": {
        "id": "fJty3xBtLfUd"
      },
      "source": [
        "Pick Up and Drop Off Table\n"
      ]
    },
    {
      "cell_type": "code",
      "metadata": {
        "id": "nJ_zKHHkLfCt",
        "outputId": "39b20f3b-ae76-424b-a02c-d6a8ea3c26a3",
        "colab": {
          "base_uri": "https://localhost:8080/",
          "height": 0
        }
      },
      "source": [
        "demand_table = pd.read_excel('GivenData.xlsx', 'Pick Drop', header = 0, usecols=range(2,26), skiprows = 1, skipfooter = 1)\n",
        "\n",
        "p = random.randint(0, 23) #pickup time\n",
        "d = random.randint(0, 23) #dropoff time\n",
        "\n",
        "if demand_table.iat[d, p] > 0:\n",
        "  print('Deposit Time', d)\n",
        "  print('Pickup Time', p)\n",
        "  print('Probability of Dropoff and Pickup is', demand_table.iat[d, p], 'x10,000.')\n",
        "else:\n",
        "  print('Deposit Time', d) \n",
        "  print('Pickup Time', p)\n",
        "  print('No pickup or dropoff during this time.')\n",
        "\n",
        "print('The simulated locker space is', sim_space.iloc[0]['Space (ft3)'])\n"
      ],
      "execution_count": 7,
      "outputs": [
        {
          "output_type": "stream",
          "text": [
            "Deposit Time 21\n",
            "Pickup Time 19\n",
            "No pickup or dropoff during this time.\n",
            "The simulated locker space is 8.0\n"
          ],
          "name": "stdout"
        }
      ]
    },
    {
      "cell_type": "markdown",
      "metadata": {
        "id": "brpHcvR_EeLj"
      },
      "source": [
        "# Task 2 - Heuristic for Dynamic Locker Assignment\n",
        "\n"
      ]
    },
    {
      "cell_type": "markdown",
      "metadata": {
        "id": "EP30OE_WOHm0"
      },
      "source": [
        "### *Variables/Parameters*\n",
        "N<sub>d</sub> = number of lockers of dimesion *d*\n",
        "\n",
        "L<sub>xy</sub> = location in grid by *x* row and *y* column\n",
        "\n",
        "D<sub>xy</sub> = dimension of locker measured in grid units\n",
        "\n",
        "A<sub>xy</sub> = assignment of package in to a locker of size *d*\n",
        "\n",
        "L<sub>d</sub><sub>xy</sub> = implementation of locker of{0,1} at position xy\n",
        "\n",
        "M<sub>xy</sub> = location of interactive panel\n",
        "\n",
        "Z<sub>xy</sub> = decision variable if locker is available\n",
        "\n",
        "\n",
        "#Objective\n",
        "*Maximize assignment of lockers at single locker bank location for a given scenario*\n",
        "\n",
        "\n",
        "max $\\sum_{d\\epsilon D} S$<sub>d</sub> - $\\sum_{d\\epsilon D} A$<sub>dd</sub> + $\\lambda$ ($\\sum_{d\\epsilon D} N$<sub>d</sub> + $\\sum M$<sub>xy</sub> + $\\sum D$<sub>xy</sub>) $\\forall$$x\\epsilon$X, $\\forall$$y\\epsilon$Y\n",
        "\n",
        "\n",
        "\n",
        "#Constraints\n",
        "\n",
        "#### Current Demand Satisfaction\n",
        "S<sub>d</sub> = $\\sum$A $\\leq$d<sub>d</sub>\n",
        "\n",
        "####Total Lockers in Bank Design\n",
        "N<sub>d</sub> = $\\sum$L<sub>d</sub> $\\forall$d$\\epsilon$D\n",
        "\n",
        "####Unique Assignment of Item in a Locker\n",
        "$\\sum$A<sub>dd</sub>$ \\leq$L<sub>dxy</sub>\n",
        "\n",
        "####Allocation to Avoid Overlaps in Locker and Interactive Panel Assignment\n",
        "$\\sum$L<sub>dxy</sub>+$\\sum$Mxy = Z<sub>xy</sub> $\\forall$$x\\epsilon$X, $\\forall$$y\\epsilon$Y\n",
        "\n",
        "####Prevents gaps or \"empty\" space in design\n",
        "Z<sub>xy</sub> $\\leq$L <sub>xy</sub>/2 \n",
        "\n",
        "Z<sub>xy</sub> $\\geq$L <sub>xy</sub> -1\n",
        "\n",
        "$\\forall$$x\\epsilon$X, $\\forall$$y\\epsilon$Y"
      ]
    },
    {
      "cell_type": "markdown",
      "metadata": {
        "id": "EmX1ISUxExXF"
      },
      "source": [
        "# Task 3 - Extend Simulator"
      ]
    },
    {
      "cell_type": "markdown",
      "metadata": {
        "id": "mhSEXeR1m2BK"
      },
      "source": [
        "##Locker Bank Layout"
      ]
    },
    {
      "cell_type": "code",
      "metadata": {
        "id": "uSw4NR37rpzw"
      },
      "source": [
        "import matplotlib\n",
        "import matplotlib.pyplot as plt\n",
        "import matplotlib.gridspec as gridspec"
      ],
      "execution_count": 8,
      "outputs": []
    },
    {
      "cell_type": "code",
      "metadata": {
        "id": "L4HrrNX6w1yo",
        "outputId": "b9e9cc3c-5e17-46d8-dfef-116c9a01871b",
        "colab": {
          "base_uri": "https://localhost:8080/",
          "height": 122
        }
      },
      "source": [
        "import random\n",
        "column = random.randrange(5, 50, 1)\n",
        "rowz = random.randrange(5, 50, 1)\n",
        "no_lockers = column * rowz\n",
        "print('No. of Lockers', no_lockers)\n",
        "print('No. of columns', column)\n",
        "print('No. of rows', rowz)\n",
        "\n",
        "widths = []\n",
        "for i in range(0,column):\n",
        "  n = random.randint(1,5)\n",
        "  widths.append(n)\n",
        "print('Widths of Lockers', widths)\n",
        "\n",
        "heights = []\n",
        "for i in range(0,rowz):\n",
        "  n = random.randint(1,5)\n",
        "  heights.append(n)\n",
        "print('Heights of Lockers', heights)"
      ],
      "execution_count": 9,
      "outputs": [
        {
          "output_type": "stream",
          "text": [
            "No. of Lockers 1026\n",
            "No. of columns 38\n",
            "No. of rows 27\n",
            "Widths of Lockers [1, 5, 1, 1, 1, 5, 1, 2, 1, 1, 2, 5, 4, 2, 5, 3, 3, 5, 1, 3, 2, 2, 4, 4, 5, 1, 5, 5, 5, 2, 1, 2, 3, 1, 5, 5, 2, 5]\n",
            "Heights of Lockers [3, 3, 1, 1, 4, 5, 3, 2, 5, 3, 4, 1, 3, 3, 3, 3, 5, 4, 5, 4, 2, 2, 4, 3, 5, 1, 2]\n"
          ],
          "name": "stdout"
        }
      ]
    },
    {
      "cell_type": "markdown",
      "metadata": {
        "id": "kaSIrOORBFPX"
      },
      "source": [
        "##Locker Sizes"
      ]
    },
    {
      "cell_type": "code",
      "metadata": {
        "id": "5UzPKk0EBFb1",
        "outputId": "0216cb94-2e5d-4567-f123-bb206eb8f173",
        "colab": {
          "base_uri": "https://localhost:8080/",
          "height": 34
        }
      },
      "source": [
        "#sizes of lockers in ft3\n",
        "sizes = []\n",
        "for i in range(no_lockers):\n",
        "  sim_space = space_table.sample(n=1, weights='Probability') #Random locker based on weights\n",
        "  n = sim_space.iloc[0]['Space (ft3)']\n",
        "  sizes.append(n)\n",
        "#print(sizes)\n",
        "\n",
        "#total dimensions of lockers\n",
        "total = 0\n",
        "for ele in range(0, len(sizes)):\n",
        "  total = total + sizes[(ele)]\n",
        "print('Total Dimensions of Lockers:', total, 'ft3')\n"
      ],
      "execution_count": 10,
      "outputs": [
        {
          "output_type": "stream",
          "text": [
            "Total Dimensions of Lockers: 6420.0 ft3\n"
          ],
          "name": "stdout"
        }
      ]
    },
    {
      "cell_type": "markdown",
      "metadata": {
        "id": "e8aWyxdW5EA2"
      },
      "source": [
        "##Demand Rejection or Acceptance Based on Demand\n"
      ]
    },
    {
      "cell_type": "code",
      "metadata": {
        "id": "Cl0mFFKuHrfQ",
        "outputId": "7f51c6bd-aab5-4d59-e652-7e957991df1e",
        "colab": {
          "base_uri": "https://localhost:8080/",
          "height": 34
        }
      },
      "source": [
        "ignore_prob = daily_demand.to_numpy()\n",
        "fiveyar = random.choice(ignore_prob[:,1:])\n",
        "dailydemand = random.choice(fiveyar)\n",
        "dailydemand = int(dailydemand)\n",
        "print('Demand for Delivery:', dailydemand)"
      ],
      "execution_count": 11,
      "outputs": [
        {
          "output_type": "stream",
          "text": [
            "Demand for Delivery: 1200\n"
          ],
          "name": "stdout"
        }
      ]
    },
    {
      "cell_type": "code",
      "metadata": {
        "id": "VJTESywfKme4",
        "outputId": "26c9c2b3-daa0-4883-eea8-bf80142d7f69",
        "colab": {
          "base_uri": "https://localhost:8080/",
          "height": 34
        }
      },
      "source": [
        "if dailydemand <= no_lockers:\n",
        "  print('Accept Demand - Enough lockers')\n",
        "else:\n",
        "  print('Deny Demand - Not enough lockers')"
      ],
      "execution_count": 12,
      "outputs": [
        {
          "output_type": "stream",
          "text": [
            "Deny Demand - Not enough lockers\n"
          ],
          "name": "stdout"
        }
      ]
    },
    {
      "cell_type": "markdown",
      "metadata": {
        "id": "IrjoIPGLLNG5"
      },
      "source": [
        "##Sojourn to Lockers - Based on Dimensions"
      ]
    },
    {
      "cell_type": "code",
      "metadata": {
        "id": "97GgIgPKLU5w",
        "outputId": "a014724c-56ce-433c-ad07-7ff5f1c704db",
        "colab": {
          "base_uri": "https://localhost:8080/",
          "height": 34
        }
      },
      "source": [
        "#sizes of packages in ft3\n",
        "packages = []\n",
        "for i in range(dailydemand):\n",
        "  sim_space = space_table.sample(n=1, weights='Probability') #Random locker based on weights\n",
        "  n = sim_space.iloc[0]['Space (ft3)']\n",
        "  packages.append(n)\n",
        "#print(packages)\n",
        "\n",
        "#total dimensions of packages\n",
        "totalpk = 0\n",
        "for ele in range(0, len(packages)):\n",
        "  totalpk = totalpk + packages[(ele)]\n",
        "print('Total Dimensions of Packages:', totalpk, 'ft3')\n"
      ],
      "execution_count": 13,
      "outputs": [
        {
          "output_type": "stream",
          "text": [
            "Total Dimensions of Packages: 7937.0 ft3\n"
          ],
          "name": "stdout"
        }
      ]
    },
    {
      "cell_type": "code",
      "metadata": {
        "id": "fTYgkNGJLbtv",
        "outputId": "0360b4fe-080d-4505-9ece-25f14961d5c4",
        "colab": {
          "base_uri": "https://localhost:8080/",
          "height": 34
        }
      },
      "source": [
        "if totalpk <= total:\n",
        "  print('Accept Demand - Enough Dimension Space')\n",
        "else:\n",
        "  print('Deny Demand - Not Enough Dimension Space')"
      ],
      "execution_count": 14,
      "outputs": [
        {
          "output_type": "stream",
          "text": [
            "Deny Demand - Not Enough Dimension Space\n"
          ],
          "name": "stdout"
        }
      ]
    },
    {
      "cell_type": "code",
      "metadata": {
        "id": "_A1Ef1wPMyRD",
        "outputId": "02bdd9f2-755f-498a-c653-cf3f789fa44e",
        "colab": {
          "base_uri": "https://localhost:8080/",
          "height": 34
        }
      },
      "source": [
        "if dailydemand <= no_lockers and totalpk <= total:\n",
        "  print('Sojourn to lockers is SUCCESSFUL')\n",
        "else:\n",
        "  print('Try different locker location')"
      ],
      "execution_count": 15,
      "outputs": [
        {
          "output_type": "stream",
          "text": [
            "Try different locker location\n"
          ],
          "name": "stdout"
        }
      ]
    },
    {
      "cell_type": "markdown",
      "metadata": {
        "id": "N7oE_uyNNRPJ"
      },
      "source": [
        "Utilization of Locker Bank (Based on Dimension)"
      ]
    },
    {
      "cell_type": "code",
      "metadata": {
        "id": "4_GG6h_SNXO_",
        "outputId": "bd43a0ac-a40b-4c96-95ad-dface3ffec69",
        "colab": {
          "base_uri": "https://localhost:8080/",
          "height": 34
        }
      },
      "source": [
        "if totalpk <= total:\n",
        "  utilization = (totalpk/total)*100\n",
        "  print('Utilization of Locker Bank', utilization, '%')\n",
        "else:\n",
        "  print('Zero Utilization')"
      ],
      "execution_count": 16,
      "outputs": [
        {
          "output_type": "stream",
          "text": [
            "Zero Utilization\n"
          ],
          "name": "stdout"
        }
      ]
    },
    {
      "cell_type": "markdown",
      "metadata": {
        "id": "7BfhaRltN_QD"
      },
      "source": [
        "##Daily Service Level "
      ]
    },
    {
      "cell_type": "code",
      "metadata": {
        "id": "oNNxE6yuOBHD",
        "outputId": "d225bee7-1b3e-403d-9df9-c907a68a1d00",
        "colab": {
          "base_uri": "https://localhost:8080/",
          "height": 198
        }
      },
      "source": [
        "#Daily\n",
        "if dailydemand <= no_lockers:\n",
        "  servicelevel = (dailydemand/no_lockers) * 100\n",
        "  print('Daily Service Level', servicelevel, '%')\n",
        "else:\n",
        "  print('Dissatisfactory Service Level', servicelevel, '%')"
      ],
      "execution_count": 17,
      "outputs": [
        {
          "output_type": "error",
          "ename": "NameError",
          "evalue": "ignored",
          "traceback": [
            "\u001b[0;31m---------------------------------------------------------------------------\u001b[0m",
            "\u001b[0;31mNameError\u001b[0m                                 Traceback (most recent call last)",
            "\u001b[0;32m<ipython-input-17-b245506c0ce6>\u001b[0m in \u001b[0;36m<module>\u001b[0;34m()\u001b[0m\n\u001b[1;32m      4\u001b[0m   \u001b[0mprint\u001b[0m\u001b[0;34m(\u001b[0m\u001b[0;34m'Daily Service Level'\u001b[0m\u001b[0;34m,\u001b[0m \u001b[0mservicelevel\u001b[0m\u001b[0;34m,\u001b[0m \u001b[0;34m'%'\u001b[0m\u001b[0;34m)\u001b[0m\u001b[0;34m\u001b[0m\u001b[0;34m\u001b[0m\u001b[0m\n\u001b[1;32m      5\u001b[0m \u001b[0;32melse\u001b[0m\u001b[0;34m:\u001b[0m\u001b[0;34m\u001b[0m\u001b[0;34m\u001b[0m\u001b[0m\n\u001b[0;32m----> 6\u001b[0;31m   \u001b[0mprint\u001b[0m\u001b[0;34m(\u001b[0m\u001b[0;34m'Dissatisfactory Service Level'\u001b[0m\u001b[0;34m,\u001b[0m \u001b[0mservicelevel\u001b[0m\u001b[0;34m,\u001b[0m \u001b[0;34m'%'\u001b[0m\u001b[0;34m)\u001b[0m\u001b[0;34m\u001b[0m\u001b[0;34m\u001b[0m\u001b[0m\n\u001b[0m",
            "\u001b[0;31mNameError\u001b[0m: name 'servicelevel' is not defined"
          ]
        }
      ]
    },
    {
      "cell_type": "code",
      "metadata": {
        "id": "ZTef6Xv8PKgy"
      },
      "source": [
        "#Yearly\n",
        "\n",
        "servicelevel = 0\n",
        "weeks_yr = []\n",
        "for y in range(52):\n",
        "  column = random.randrange(5, 50, 1)\n",
        "  rowz = random.randrange(5, 50, 1)\n",
        "  no_lockers = column * rowz\n",
        "  print('No. of Lockers', no_lockers)\n",
        "  #print('No. of columns', column)\n",
        "  #print('No. of rows', rowz)\n",
        "\n",
        "  widths = []\n",
        "  for i in range(0,column):\n",
        "    n = random.randint(1,5)\n",
        "    widths.append(n)\n",
        "  #print('Widths of Lockers', widths)\n",
        "\n",
        "  heights = []\n",
        "  for i in range(0,rowz):\n",
        "    n = random.randint(1,5)\n",
        "    heights.append(n)\n",
        "  #print('Heights of Lockers', heights)\n",
        "\n",
        "  #sizes of lockers in ft3\n",
        "  sizes = []\n",
        "  for i in range(no_lockers):\n",
        "    sim_space = space_table.sample(n=1, weights='Probability') #Random locker based on weights\n",
        "    n = sim_space.iloc[0]['Space (ft3)']\n",
        "    sizes.append(n)\n",
        "  #print(sizes)\n",
        "\n",
        "  #total dimensions of lockers\n",
        "  total = 0\n",
        "  for ele in range(0, len(sizes)):\n",
        "    total = total + sizes[(ele)]\n",
        "  #print('Total Dimensions of Lockers:', total, 'ft3')\n",
        "\n",
        "  ignore_prob = daily_demand.to_numpy()\n",
        "  fiveyar = random.choice(ignore_prob[:,1:])\n",
        "  dailydemand = random.choice(fiveyar)\n",
        "  dailydemand = int(dailydemand)\n",
        "  #print('Demand for Delivery:', dailydemand)\n",
        "\n",
        "  if dailydemand <= no_lockers:\n",
        "    print('Accept Demand - Enough lockers')\n",
        "  else:\n",
        "    print('Deny Demand - Not enough lockers')\n",
        "\n",
        "  #sizes of packages in ft3\n",
        "  packages = []\n",
        "  for i in range(dailydemand):\n",
        "    sim_space = space_table.sample(n=1, weights='Probability') #Random locker based on weights\n",
        "    n = sim_space.iloc[0]['Space (ft3)']\n",
        "    packages.append(n)\n",
        "  #print(packages)\n",
        "\n",
        "  #total dimensions of packages\n",
        "  totalpk = 0\n",
        "  for ele in range(0, len(packages)):\n",
        "    totalpk = totalpk + packages[(ele)]\n",
        "  #print('Total Dimensions of Packages:', totalpk, 'ft3')\n",
        "\n",
        "  if totalpk <= total:\n",
        "    print('Accept Demand - Enough Dimension Space')\n",
        "  else:\n",
        "    print('Deny Demand - Not Enough Dimension Space')\n",
        "\n",
        "  if dailydemand <= no_lockers and totalpk <= total:\n",
        "    print('Sojourn to lockers is SUCCESSFUL')\n",
        "  else:\n",
        "    print('Try different locker location')\n",
        "\n",
        "  if totalpk <= total:\n",
        "    utilization = (totalpk/total)*100\n",
        "    print('Utilization of Locker Bank', utilization, '%')\n",
        "  else:\n",
        "    print('Zero Utilization')\n",
        "\n",
        "  #Daily\n",
        "  if dailydemand <= no_lockers:\n",
        "    servicelevel = (dailydemand/no_lockers) * 100\n",
        "    print('Acceptable Service Level', servicelevel)\n",
        "  else:\n",
        "    print('Dissatisfactory Service Level')\n"
      ],
      "execution_count": null,
      "outputs": []
    },
    {
      "cell_type": "markdown",
      "metadata": {
        "id": "wVwWRwKorEQh"
      },
      "source": [
        "##Yearly Service Level"
      ]
    },
    {
      "cell_type": "code",
      "metadata": {
        "id": "aYagC9ZmrHWw"
      },
      "source": [
        "print('Global service level', servicelevel, '%')"
      ],
      "execution_count": null,
      "outputs": []
    },
    {
      "cell_type": "markdown",
      "metadata": {
        "id": "qhDbCvgzw44n"
      },
      "source": [
        "##Locker Design Layout for Given Instance"
      ]
    },
    {
      "cell_type": "code",
      "metadata": {
        "id": "K47SoeShEMcq"
      },
      "source": [
        "fig6 = plt.figure(constrained_layout=True)\n",
        "\n",
        "gs_kw = dict(width_ratios=widths, height_ratios=heights)\n",
        "fig6, f6_axes = plt.subplots(ncols=column, nrows=rowz, sharex='col', sharey='row', constrained_layout=True,\n",
        "        gridspec_kw=gs_kw)\n",
        "for r, row in enumerate(f6_axes):\n",
        "    for c, ax in enumerate(row):\n",
        "      plt.show()\n",
        "\n",
        "fig6.suptitle('Locker Bank Design', fontsize=40)  "
      ],
      "execution_count": null,
      "outputs": []
    },
    {
      "cell_type": "markdown",
      "metadata": {
        "id": "KF-W1bb4sAfc"
      },
      "source": [
        "# Task 4 - Heuristic for Fixed Locker Bank Configuration"
      ]
    },
    {
      "cell_type": "markdown",
      "metadata": {
        "id": "v3kWYOS_c3Qh"
      },
      "source": [
        "To adjust from a dynamic to a fixed design configuration, an upper bound was set and the total dimensions of the design is constrained to equal that bound. "
      ]
    },
    {
      "cell_type": "markdown",
      "metadata": {
        "id": "cVVgwXvdN6ys"
      },
      "source": [
        "### *Variables/Parameters*\n",
        "N<sub>d</sub> = number of lockers of dimesion *d*\n",
        "\n",
        "L<sub>xy</sub> = location in grid by *x* row and *y* column\n",
        "\n",
        "D<sub>xy</sub> = dimension of locker measured in grid units\n",
        "\n",
        "U<sub>xy</sub> = upper bounds of the horizontal and vertical dimensions of the locker bank\n",
        "\n",
        "A<sub>xy</sub> = assignment of package in to a locker of size *d*\n",
        "\n",
        "L<sub>d</sub><sub>xy</sub> = implementation of locker of{0,1} at position xy\n",
        "\n",
        "M<sub>xy</sub> = location of interactive panel\n",
        "\n",
        "Z<sub>xy</sub> = decision variable if locker is available\n",
        "\n",
        "\n",
        "#Objective\n",
        "*Maximize assignment of lockers at single locker bank location for a given scenario*\n",
        "\n",
        "max $\\sum_{d\\epsilon D} S$<sub>d</sub> - $\\sum_{d\\epsilon D} A$<sub>dd</sub> + $\\lambda$ ($\\sum_{d\\epsilon D} N$<sub>d</sub> + $\\sum M$<sub>xy</sub> + $\\sum D$<sub>xy</sub>) $\\forall$$x\\epsilon$X, $\\forall$$y\\epsilon$Y\n",
        "\n",
        "#Constraints\n",
        "\n",
        "#### Current Demand Satisfaction\n",
        "S<sub>d</sub> = $\\sum$A $\\leq$d<sub>d</sub>\n",
        "\n",
        "#### Fixes the Dimension of Locker Bank\n",
        "$\\sum $D<sub>xy</sub> = U<sub>xy</sub>\n",
        "\n",
        "####Total Lockers in Bank Design\n",
        "N<sub>d</sub> = $\\sum$L<sub>d</sub> $\\forall$d$\\epsilon$D\n",
        "\n",
        "####Unique Assignment of Item in a Locker\n",
        "$\\sum$A<sub>dd</sub>$ \\leq $L<sub>dxy</sub>\n",
        "\n",
        "####Allocation to Avoid Overlaps in Locker and Interactive Panel Assignment\n",
        "$\\sum$L<sub>dxy</sub>+$\\sum$Mxy = Z<sub>xy</sub> $\\forall$$x\\epsilon$X, $\\forall$$y\\epsilon$Y\n",
        "\n",
        "####Prevents gaps or \"empty\" space in design\n",
        "Z $\\leq$L <sub>xy</sub>/2 \n",
        "\n",
        "Z$\\geq$L <sub>xy</sub> -1\n",
        "\n",
        "$\\forall$$x\\epsilon$X, $\\forall$$y\\epsilon$Y"
      ]
    },
    {
      "cell_type": "markdown",
      "metadata": {
        "id": "hE-_haoYsC6O"
      },
      "source": [
        "# Task 4 cont'd and Task 5\n",
        "####Proposed Design Alternatives and Performance Assessment"
      ]
    },
    {
      "cell_type": "markdown",
      "metadata": {
        "id": "F7sG8MbXdiY9"
      },
      "source": [
        "##Design Alternative No. 1 - Large\n"
      ]
    },
    {
      "cell_type": "markdown",
      "metadata": {
        "id": "4UAu9onvglQe"
      },
      "source": [
        "* Scenario 2\n",
        "* 9th 4-week period\n",
        "* Demand for Delivery: 900\n",
        "\n",
        "* Horizontal Upper Bound: 50\n",
        "* Vertical Upper Bound: 50\n",
        "* No. of Lockers 1200\n",
        "* No. of columns 48\n",
        "* No. of rows 25\n",
        "* Total Dimensions of Lockers: 7722.0 ft3\n",
        "* Accept Demand - Enough lockers\n",
        "* Total Dimensions of Packages: 5819.0 ft3\n",
        "* Accept Demand - Enough Dimension Space\n",
        "* Utilization of Locker Bank 75.35612535612536%\n",
        "* Service Level 75.0 %\n"
      ]
    },
    {
      "cell_type": "markdown",
      "metadata": {
        "id": "L1ynED57dvZp"
      },
      "source": [
        "##Design Alternative No. 2 - Medium"
      ]
    },
    {
      "cell_type": "markdown",
      "metadata": {
        "id": "RFFt6zSwjDfc"
      },
      "source": [
        "* Scenario 2\n",
        "* 9th 4-week period\n",
        "* Demand for Delivery: 900\n",
        "* Horizontal Upper Bound: 25\n",
        "* Vertical Upper Bound: 25\n",
        "* No. of Lockers 84\n",
        "* No. of columns 14\n",
        "* No. of rows 6\n",
        "* Total Dimensions of Lockers: 573.0 ft3\n",
        "* Deny Demand - Not Enough Lockers\n",
        "* Total Dimensions of Packages: 5648.0 \n",
        "* Deny Demand - Not Enough Dimension Space\n",
        "* 100% Utilization if Deposited\n",
        "* Service Level 9.333 %"
      ]
    },
    {
      "cell_type": "markdown",
      "metadata": {
        "id": "mnT6NRfyd3YS"
      },
      "source": [
        "## Design Alternative No. 3 - Small\n"
      ]
    },
    {
      "cell_type": "markdown",
      "metadata": {
        "id": "oB1ftnxPk0-j"
      },
      "source": [
        "* Scenario 3\n",
        "* 9th 4-week period\n",
        "* Demand for Delivery: 900\n",
        "* Horizontal Upper Bound: 10\n",
        "* Vertical Upper Bound: 10\n",
        "* No. of Lockers 35\n",
        "* No. of columns 7\n",
        "* No. of rows 5\n",
        "* Total Dimensions of Lockers: 259.0 ft3\n",
        "* Deny Demand - Not enough lockers\n",
        "* Total Dimensions of Packages: 5766.0 ft3\n",
        "* Deny Demand - Not Enough Dimension Space\n",
        "* 100% Utilization if Deposited\n",
        "* Service Level 3.888 %"
      ]
    },
    {
      "cell_type": "markdown",
      "metadata": {
        "id": "auY5jxI9d8P0"
      },
      "source": [
        "## Design Alternative No. 4 - Large"
      ]
    },
    {
      "cell_type": "markdown",
      "metadata": {
        "id": "25LrTWdtoIql"
      },
      "source": [
        "* Scenario 1\n",
        "* 12th 4-week period\n",
        "* Demand for Delivery: 130\n",
        "* Horizontal Upper Bound: 50\n",
        "* Vertical Upper Bound: 50\n",
        "* No. of Lockers 1760\n",
        "* No. of columns 44\n",
        "* No. of rows 40\n",
        "* Total Dimensions of Lockers: 11195.0 ft3\n",
        "* Accept Demand - Enough lockers\n",
        "* Total Dimensions of Packages: 812.0 ft3\n",
        "* Accept Demand - Enough Dimension Space\n",
        "* Utilization of Locker Bank 7.253%\n",
        "* Service Level 100%\n"
      ]
    },
    {
      "cell_type": "markdown",
      "metadata": {
        "id": "LkSM2BgGd-B9"
      },
      "source": [
        "## Design Alternative No. 5 - Medium"
      ]
    },
    {
      "cell_type": "markdown",
      "metadata": {
        "id": "xLLHTbQdoIO0"
      },
      "source": [
        "* Scenario 1\n",
        "* 12th 4-week period\n",
        "* Demand for Delivery: 130\n",
        "* Horizontal Upper Bound: 25\n",
        "* Vertical Upper Bound: 25\n",
        "* No. of Lockers 182\n",
        "* No. of columns 14\n",
        "* No. of rows 13\n",
        "* Total Dimensions of Lockers: 1206.0 ft3\n",
        "* Accept Demand - Enough lockers\n",
        "* Total Dimensions of Packages: 897.0 ft3\n",
        "* Accept Demand - Enough Dimension Space\n",
        "* Utilization of Locker Bank 74.378 %\n",
        "* Daily Service Level 71.428* %"
      ]
    }
  ]
}